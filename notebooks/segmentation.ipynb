{
  "cells": [
    {
      "cell_type": "markdown",
      "metadata": {
        "id": "view-in-github",
        "colab_type": "text"
      },
      "source": [
        "<a href=\"https://colab.research.google.com/github/pandey-rakshit/myntra-gifts-segmentation/blob/main/notebooks/segmentation.ipynb\" target=\"_parent\"><img src=\"https://colab.research.google.com/assets/colab-badge.svg\" alt=\"Open In Colab\"/></a>"
      ]
    },
    {
      "cell_type": "markdown",
      "id": "567f411b-a737-4572-b1ba-e8ddf95fa7a4",
      "metadata": {
        "id": "567f411b-a737-4572-b1ba-e8ddf95fa7a4"
      },
      "source": [
        "# 📌 Myntra Online Retail Customer Segmentation"
      ]
    },
    {
      "cell_type": "markdown",
      "id": "82d020b1-9759-4dce-a4ab-924d1632b042",
      "metadata": {
        "id": "82d020b1-9759-4dce-a4ab-924d1632b042"
      },
      "source": [
        "**Project Type: Unsupervised**"
      ]
    },
    {
      "cell_type": "markdown",
      "id": "07f8dc60-04c1-4119-89e9-6b08616a4385",
      "metadata": {
        "id": "07f8dc60-04c1-4119-89e9-6b08616a4385"
      },
      "source": [
        "**Contribution: Individual**"
      ]
    },
    {
      "cell_type": "markdown",
      "id": "531a5753-cced-41af-88e5-373a3cafe521",
      "metadata": {
        "id": "531a5753-cced-41af-88e5-373a3cafe521"
      },
      "source": [
        "**Rakshit Pandey**"
      ]
    },
    {
      "cell_type": "markdown",
      "id": "27293929-9b1a-4bb7-a695-1e6c702fa86b",
      "metadata": {
        "id": "27293929-9b1a-4bb7-a695-1e6c702fa86b"
      },
      "source": [
        "# **Project Summary -**"
      ]
    },
    {
      "cell_type": "markdown",
      "id": "7b431ed1-7cca-426c-aa8f-6c02d92c64c4",
      "metadata": {
        "id": "7b431ed1-7cca-426c-aa8f-6c02d92c64c4"
      },
      "source": [
        "We aim to leverage unsupervised machine learning techniques to segment Myntra Gifts Ltd.'s online retail customers, deriving actionable insights on purchasing behavior that support targeted marketing, optimized pricing, and efficient inventory management."
      ]
    },
    {
      "cell_type": "markdown",
      "id": "06adc699-3dae-4849-bbb5-7b863062f1ae",
      "metadata": {
        "id": "06adc699-3dae-4849-bbb5-7b863062f1ae"
      },
      "source": [
        "**Key Objectives:**  \n",
        "\n",
        "- **Purchasing Trends:** Identify seasonal patterns and product preferences.\n",
        "- **Product Performance:** Determine best and worst-performing products.\n",
        "- **Customer Behavior:** Analyze buying frequency, recency, and overall monetary value.\n",
        "- **Pricing Optimization:** Refine pricing strategies based on sales volume and unit price relationships.\n",
        "- **Inventory Management:** Improve stock planning to reduce overstock and stockouts.\n"
      ]
    },
    {
      "cell_type": "markdown",
      "id": "14b54bfa-89cb-4bf2-b071-49a50756a8be",
      "metadata": {
        "id": "14b54bfa-89cb-4bf2-b071-49a50756a8be"
      },
      "source": [
        "\n",
        "This project utilizes unsupervised machine learning to segment Myntra Gifts Ltd.'s online retail customers based on transactional data from December 2009 to December 2011. The goal is to uncover distinct customer groups by analyzing purchasing behaviors, which will enable targeted marketing, optimized inventory management, and refined pricing strategies. The approach includes thorough data cleaning, feature engineering (e.g., RFM analysis), and clustering techniques to derive actionable insights for strategic decision-making."
      ]
    },
    {
      "cell_type": "markdown",
      "id": "95b65130-734f-48f3-ae8f-3069b9485a83",
      "metadata": {
        "id": "95b65130-734f-48f3-ae8f-3069b9485a83"
      },
      "source": [
        "# **GitHub Link -**\n",
        "\n",
        "http://github.com/pandey-rakshit/Myntra-gifts-segmentation/"
      ]
    },
    {
      "cell_type": "markdown",
      "id": "d6f6691b-61c4-4c37-9912-55d6d3fe7772",
      "metadata": {
        "id": "d6f6691b-61c4-4c37-9912-55d6d3fe7772"
      },
      "source": [
        "# **Problem Statement**\n"
      ]
    },
    {
      "cell_type": "markdown",
      "id": "14d9dd9c-aa1e-4f1d-90e7-d979ae950482",
      "metadata": {
        "id": "14d9dd9c-aa1e-4f1d-90e7-d979ae950482"
      },
      "source": [
        "The challenge is to analyze Myntra Gifts Ltd.'s historical transactional data to identify distinct customer segments based on their purchasing behaviors. By uncovering these segments, we can address the need for targeted marketing, optimized pricing strategies, and efficient inventory management, ultimately enhancing customer satisfaction and business performance."
      ]
    },
    {
      "cell_type": "markdown",
      "id": "d985444e-189e-4199-a3ff-372308f51f2e",
      "metadata": {
        "id": "d985444e-189e-4199-a3ff-372308f51f2e"
      },
      "source": [
        "# **Executive Summary**\n",
        "\n",
        "This project applied unsupervised machine learning to segment Myntra Gifts Ltd.’s UK online retail customers (Dec 2009–Dec 2011) into three distinct groups based on purchasing behavior. Beginning with 541,909 transaction records, we cleaned and preprocessed the data—removing duplicates, filtering out returns, and excluding rows missing CustomerID—to produce a reliable dataset of 4,338 unique customers. We engineered Recency, Frequency, and Monetary (RFM) features, scaled them, and used the elbow method and silhouette score to determine that three clusters (k=3) delivered the strongest separation.\n",
        "\n",
        "**Key Findings**\n",
        "\n",
        "- **Cluster 1 – High‑Value Loyal Customers (922 customers):**  \n",
        "  Most recent purchasers with the highest order frequency and average spend (~₹7,255). These customers generate the majority of revenue and should be prioritized for retention programs and upselling.\n",
        "\n",
        "- **Cluster 0 – Moderate Customers (2,384 customers):**  \n",
        "  Moderately engaged, mid‑spend customers with average recency (~50 days). They represent an opportunity to drive incremental growth through targeted promotions.\n",
        "\n",
        "- **Cluster 2 – At‑Risk/Lapsed Customers (1,032 customers):**  \n",
        "  Longest time since last purchase (≈250 days), lowest frequency, and spend (~₹404). This segment is most susceptible to churn and is ripe for win‑back campaigns.\n",
        "\n",
        "**Achievement of Objectives**\n",
        "\n",
        "- **Purchasing Trends & Customer Behavior:**  \n",
        "  Clear segmentation uncovered distinct buying patterns and customer lifecycle stages.  \n",
        "- **Product & Geographic Insights:**  \n",
        "  Analysis of top products and countries per cluster highlighted tailored inventory and marketing priorities.  \n",
        "- **Pricing & Revenue Optimization:**  \n",
        "  Segments’ spending profiles validated pricing strategies and identified high‑value cohorts.  \n",
        "- **Inventory Efficiency:**  \n",
        "  Demand patterns by segment inform stocking decisions, reducing overstock risk for low‑demand items.\n",
        "\n",
        "**Conclusion & Next Steps**\n",
        "\n",
        "We successfully met our project goals by delivering actionable customer segments that align with Myntra Gifts Ltd.’s strategic objectives. Recommended next steps include:\n",
        "\n",
        "1. Integrate cluster labels into the CRM for personalized campaigns  \n",
        "2. Deploy segment‑specific marketing (loyalty rewards, targeted discounts, reactivation offers)  \n",
        "3. Automate periodic re‑clustering with new transaction data  \n",
        "4. Expand feature set (e.g., product affinity, customer lifetime value) for deeper personalization and predictive modeling"
      ]
    },
    {
      "cell_type": "markdown",
      "id": "cb40f026-26fa-4bb1-8ab9-8c1d8af5472a",
      "metadata": {
        "id": "cb40f026-26fa-4bb1-8ab9-8c1d8af5472a"
      },
      "source": [
        "# **General Guidelines** : -  "
      ]
    },
    {
      "cell_type": "markdown",
      "id": "9248c54e-e316-4e72-8554-62bcefd04300",
      "metadata": {
        "id": "9248c54e-e316-4e72-8554-62bcefd04300"
      },
      "source": [
        "1.   Well-structured, formatted, and commented code is required.\n",
        "2.   Exception Handling, Production Grade Code & Deployment Ready Code will be a plus. Those students will be awarded some additional credits.\n",
        "     \n",
        "     The additional credits will have advantages over other students during Star Student selection.\n",
        "       \n",
        "             [ Note: - Deployment Ready Code is defined as, the whole .ipynb notebook should be executable in one go\n",
        "                       without a single error logged. ]\n",
        "\n",
        "3.   Each and every logic should have proper comments.\n",
        "4. You may add as many number of charts you want. Make Sure for each and every chart the following format should be answered.\n",
        "        \n",
        "\n",
        "```\n",
        "# Chart visualization code\n",
        "```\n",
        "            \n",
        "\n",
        "*   Why did you pick the specific chart?\n",
        "*   What is/are the insight(s) found from the chart?\n",
        "* Will the gained insights help creating a positive business impact?\n",
        "Are there any insights that lead to negative growth? Justify with specific reason.\n",
        "\n",
        "5. You have to create at least 15 logical & meaningful charts having important insights.\n",
        "\n",
        "\n",
        "[ Hints : - Do the Vizualization in  a structured way while following \"UBM\" Rule.\n",
        "\n",
        "U - Univariate Analysis,\n",
        "\n",
        "B - Bivariate Analysis (Numerical - Categorical, Numerical - Numerical, Categorical - Categorical)\n",
        "\n",
        "M - Multivariate Analysis\n",
        " ]\n",
        "\n",
        "\n",
        "\n",
        "\n",
        "\n",
        "6. You may add more ml algorithms for model creation. Make sure for each and every algorithm, the following format should be answered.\n",
        "\n",
        "\n",
        "*   Explain the ML Model used and it's performance using Evaluation metric Score Chart.\n",
        "\n",
        "\n",
        "*   Cross- Validation & Hyperparameter Tuning\n",
        "\n",
        "*   Have you seen any improvement? Note down the improvement with updates Evaluation metric Score Chart.\n",
        "\n",
        "*   Explain each evaluation metric's indication towards business and the business impact pf the ML model used.\n"
      ]
    },
    {
      "cell_type": "markdown",
      "id": "bdea3ce2-634a-4900-bb97-68b6750838b0",
      "metadata": {
        "id": "bdea3ce2-634a-4900-bb97-68b6750838b0"
      },
      "source": [
        "# ***Let's Begin !***"
      ]
    },
    {
      "cell_type": "code",
      "execution_count": 1,
      "id": "3YBy3Ape-sJR",
      "metadata": {
        "colab": {
          "base_uri": "https://localhost:8080/"
        },
        "id": "3YBy3Ape-sJR",
        "outputId": "7f0c330b-40b4-45e5-c777-0faa28cf48cd"
      },
      "outputs": [
        {
          "output_type": "stream",
          "name": "stdout",
          "text": [
            "Cloning into 'Myntra-gifts-segmentation'...\n",
            "warning: redirecting to https://github.com/pandey-rakshit/Myntra-gifts-segmentation/\n",
            "remote: Enumerating objects: 46, done.\u001b[K\n",
            "remote: Counting objects: 100% (46/46), done.\u001b[K\n",
            "remote: Compressing objects: 100% (40/40), done.\u001b[K\n",
            "remote: Total 46 (delta 3), reused 45 (delta 2), pack-reused 0 (from 0)\u001b[K\n",
            "Receiving objects: 100% (46/46), 7.50 MiB | 5.72 MiB/s, done.\n",
            "Resolving deltas: 100% (3/3), done.\n"
          ]
        }
      ],
      "source": [
        "# Running on Colab\n",
        "\n",
        "!git clone http://github.com/pandey-rakshit/Myntra-gifts-segmentation/"
      ]
    },
    {
      "cell_type": "markdown",
      "id": "345a7650-95bb-413a-be2e-403391cbdd51",
      "metadata": {
        "id": "345a7650-95bb-413a-be2e-403391cbdd51"
      },
      "source": [
        "## Imports"
      ]
    },
    {
      "cell_type": "code",
      "execution_count": 2,
      "id": "d3ace6e0-cc9b-454f-9ca3-a34cb3a1cd22",
      "metadata": {
        "id": "d3ace6e0-cc9b-454f-9ca3-a34cb3a1cd22"
      },
      "outputs": [],
      "source": [
        "# uncomment below line if these libraries are not installed\n",
        "# !pip install pandas numpy seaborn nltk scikit-learn --quiet\n"
      ]
    },
    {
      "cell_type": "code",
      "execution_count": 3,
      "id": "be0b4496-7d65-4ccf-a7ad-9c669808a8c9",
      "metadata": {
        "id": "be0b4496-7d65-4ccf-a7ad-9c669808a8c9"
      },
      "outputs": [],
      "source": [
        "import sys\n",
        "import os\n",
        "from pathlib import Path"
      ]
    },
    {
      "cell_type": "code",
      "execution_count": 4,
      "id": "f01c24da-404f-4e99-bf72-66042a3715e3",
      "metadata": {
        "id": "f01c24da-404f-4e99-bf72-66042a3715e3"
      },
      "outputs": [],
      "source": [
        "if 'google.colab' in sys.modules:\n",
        "    # For Colab, specify the absolute path to your project root (adjust as needed)\n",
        "    project_root = '/content/Myntra-gifts-segmentation/'\n",
        "else:\n",
        "    # For local or other environments, use a relative path\n",
        "    project_root = os.path.abspath(\"..\")"
      ]
    },
    {
      "cell_type": "code",
      "execution_count": 5,
      "id": "oE_7VU3AAYYD",
      "metadata": {
        "id": "oE_7VU3AAYYD"
      },
      "outputs": [],
      "source": [
        "if project_root not in sys.path:\n",
        "    sys.path.append(project_root)"
      ]
    },
    {
      "cell_type": "code",
      "execution_count": 6,
      "id": "94c68325-c660-4a7d-b1d1-9275fd792171",
      "metadata": {
        "id": "94c68325-c660-4a7d-b1d1-9275fd792171"
      },
      "outputs": [],
      "source": [
        "import re\n",
        "import pandas as pd\n",
        "import numpy as np\n",
        "\n",
        "import matplotlib.pyplot as plt\n",
        "import seaborn as sns\n",
        "\n",
        "from datetime import datetime\n",
        "\n",
        "import joblib\n",
        "\n",
        "from sklearn.cluster import KMeans\n",
        "from sklearn.preprocessing import StandardScaler\n",
        "from sklearn.metrics import silhouette_score, davies_bouldin_score\n",
        "from sklearn.decomposition import PCA"
      ]
    },
    {
      "cell_type": "code",
      "execution_count": 7,
      "id": "8ba482a9-5e15-49b1-9365-767fc4af8c97",
      "metadata": {
        "id": "8ba482a9-5e15-49b1-9365-767fc4af8c97",
        "scrolled": true
      },
      "outputs": [],
      "source": [
        "from utils.config import DATA_PATH\n",
        "from utils.visualization import visualize_chart, plot_functions\n",
        "\n",
        "from summaries.register_summaries import summary_factory\n",
        "\n",
        "from src.data_preprocessing.data_analysis import analyze_dataset\n",
        "from src.data_preprocessing.create_dataframe import create_dataframe\n",
        "\n",
        "from src.eda.correlation.analyze_correlation import analyze_correlation_matrix\n",
        "from src.eda.skewness.analyze_skewness import analyze_skewness\n",
        "from src.eda.outliers.transformations import best_transformation_with_outliers\n"
      ]
    },
    {
      "cell_type": "code",
      "execution_count": 8,
      "id": "96a8ca18-3d28-4fb0-9120-3b01452aed6a",
      "metadata": {
        "id": "96a8ca18-3d28-4fb0-9120-3b01452aed6a"
      },
      "outputs": [],
      "source": [
        "# pandas additional settings\n",
        "pd.set_option('display.float_format', '{:,.2f}'.format)\n",
        "pd.set_option('display.max_column', None)\n",
        "pd.set_option('display.width', None)\n"
      ]
    },
    {
      "cell_type": "markdown",
      "id": "d2e5d4e5-5e26-4a01-a989-581f4e2ab464",
      "metadata": {
        "id": "d2e5d4e5-5e26-4a01-a989-581f4e2ab464"
      },
      "source": [
        "## Functions"
      ]
    },
    {
      "cell_type": "code",
      "execution_count": 9,
      "id": "1f635376-f0de-4362-9d22-7838d82646de",
      "metadata": {
        "id": "1f635376-f0de-4362-9d22-7838d82646de"
      },
      "outputs": [],
      "source": [
        "def scale_rfm_features(rfm):\n",
        "    scaler = StandardScaler()\n",
        "    scaled_values = scaler.fit_transform(rfm[['Recency', 'Frequency', 'Monetary_log']])\n",
        "    return pd.DataFrame(scaled_values, index=rfm.index, columns=['Recency_scaled', 'Frequency_scaled', 'Monetary_scaled'])\n"
      ]
    },
    {
      "cell_type": "code",
      "execution_count": 10,
      "id": "175485ea-ac64-4be0-a26b-1f7598dde14b",
      "metadata": {
        "id": "175485ea-ac64-4be0-a26b-1f7598dde14b"
      },
      "outputs": [],
      "source": [
        "def evaluate_kmeans(df_scaled, k_values=range(2, 11)):\n",
        "    scores = []\n",
        "    for k in k_values:\n",
        "        km = KMeans(n_clusters=k, random_state=42, n_init=10)\n",
        "        labels = km.fit_predict(df_scaled)\n",
        "        scores.append({\n",
        "            'k': k,\n",
        "            'inertia': km.inertia_,\n",
        "            'silhouette': silhouette_score(df_scaled, labels)\n",
        "        })\n",
        "    return pd.DataFrame(scores)\n"
      ]
    },
    {
      "cell_type": "markdown",
      "id": "a7bdb7ad-0429-4df0-aad7-c22a1d21d770",
      "metadata": {
        "id": "a7bdb7ad-0429-4df0-aad7-c22a1d21d770"
      },
      "source": [
        "## Data Preprocessing"
      ]
    },
    {
      "cell_type": "code",
      "execution_count": 11,
      "id": "d3a3598c-d94a-4542-88dc-49c255eeb311",
      "metadata": {
        "id": "d3a3598c-d94a-4542-88dc-49c255eeb311"
      },
      "outputs": [],
      "source": [
        "# Load datasets\n",
        "df = create_dataframe(DATA_PATH)"
      ]
    },
    {
      "cell_type": "markdown",
      "id": "aa337e90-632c-41d8-bd6a-7346db2c8bf4",
      "metadata": {
        "id": "aa337e90-632c-41d8-bd6a-7346db2c8bf4"
      },
      "source": [
        "# First Look"
      ]
    },
    {
      "cell_type": "code",
      "execution_count": 12,
      "id": "a64d8906-e3aa-4bce-96cd-f18a85fa1da0",
      "metadata": {
        "id": "a64d8906-e3aa-4bce-96cd-f18a85fa1da0"
      },
      "outputs": [],
      "source": [
        "result = analyze_dataset(df, exclude_columns=['CustomerID'])"
      ]
    },
    {
      "cell_type": "code",
      "execution_count": 13,
      "id": "bf1ecfa5-8382-4846-9b9f-ad5281b867b3",
      "metadata": {
        "colab": {
          "base_uri": "https://localhost:8080/"
        },
        "id": "bf1ecfa5-8382-4846-9b9f-ad5281b867b3",
        "outputId": "e08f33a0-15c2-48c8-9dc8-c468dfb4ee42"
      },
      "outputs": [
        {
          "output_type": "stream",
          "name": "stdout",
          "text": [
            "The dataset contains 541909 rows and 8 columns.\n",
            "\n",
            "There are 136534 missing values across 2 columns.\n",
            "Missing values account for 3.15% of the dataset.\n",
            "Columns with missing values and their counts:\n",
            "  - Description: 1454 missing values\n",
            "  - CustomerID: 135080 missing values\n",
            "\n",
            "There are 5268 duplicate rows in the dataset.\n",
            "\n",
            "Data Types:\n",
            "\n",
            "     Column DataType\n",
            "  InvoiceNo   object\n",
            "  StockCode   object\n",
            "Description   object\n",
            "   Quantity    int64\n",
            "InvoiceDate   object\n",
            "  UnitPrice  float64\n",
            " CustomerID  float64\n",
            "    Country   object\n",
            "\n",
            "Summary Statistics:\n",
            "               count  mean    std        min  25%  50%   75%       max\n",
            "Quantity  541,909.00  9.55 218.08 -80,995.00 1.00 3.00 10.00 80,995.00\n",
            "UnitPrice 541,909.00  4.61  96.76 -11,062.06 1.25 2.08  4.13 38,970.00\n",
            "\n",
            "================================================================================\n",
            "\n",
            "Observations based on the dataset:\n",
            "\n",
            "  - Quantity: Right-skewed (mean > median).\n",
            "  - UnitPrice: Right-skewed (mean > median).\n"
          ]
        }
      ],
      "source": [
        "print(summary_factory.generate_summary(\"overview\", result))\n",
        "print(\"\\n\" + \"=\"*80 + \"\\n\")\n",
        "print(summary_factory.generate_summary(\"observations\", result))"
      ]
    },
    {
      "cell_type": "markdown",
      "id": "cd475fec-c821-4daa-9b45-8ea5d2b81ede",
      "metadata": {
        "id": "cd475fec-c821-4daa-9b45-8ea5d2b81ede"
      },
      "source": [
        "### Handling Missing Values"
      ]
    },
    {
      "cell_type": "markdown",
      "id": "9ff038ec-0b64-490f-b2b2-0edb2f0d05d4",
      "metadata": {
        "id": "9ff038ec-0b64-490f-b2b2-0edb2f0d05d4"
      },
      "source": [
        "There are 136534 missing values across 2 columns.\n",
        "Missing values account for 3.15% of the dataset.\n",
        "\n",
        "Columns with missing values and their counts:\n",
        "  - Description: 1454 missing values\n",
        "  - CustomerID: 135080 missing values"
      ]
    },
    {
      "cell_type": "markdown",
      "id": "760ab7e4-c2bf-4662-84bf-7e03eab7d8bd",
      "metadata": {
        "id": "760ab7e4-c2bf-4662-84bf-7e03eab7d8bd"
      },
      "source": [
        "- **CustomerID:**  \n",
        "  Accurate customer segmentation requires that each transaction is linked to a specific customer. Therefore, we remove all rows where the `CustomerID` is missing. Although this step results in a loss of approximately 25% of the dataset, it is essential for ensuring the integrity and reliability of our analysis.\n",
        "\n",
        "- **Description:**  \n",
        "  Missing values in the `Description` column are less critical. We impute these missing values by replacing them with `\"Unknown\"`, thus retaining the transaction record while acknowledging the absence of descriptive details.\n"
      ]
    },
    {
      "cell_type": "code",
      "execution_count": 14,
      "id": "f92d47aa-4976-44eb-bede-21673244b16c",
      "metadata": {
        "id": "f92d47aa-4976-44eb-bede-21673244b16c"
      },
      "outputs": [],
      "source": [
        "# Drop rows where CustomerID is missing (critical for segmentation)\n",
        "df = df.dropna(subset=['CustomerID'])"
      ]
    },
    {
      "cell_type": "code",
      "execution_count": 15,
      "id": "6364e9de-656d-4d0e-bad8-0dbc1a76d66f",
      "metadata": {
        "id": "6364e9de-656d-4d0e-bad8-0dbc1a76d66f"
      },
      "outputs": [],
      "source": [
        "# Fill missing Description values with \"Unknown\"\n",
        "df['Description'] = df['Description'].fillna(\"Unknown\")"
      ]
    },
    {
      "cell_type": "code",
      "execution_count": 16,
      "id": "3eb24e27-17d4-4205-ae3e-66cb2bdf9749",
      "metadata": {
        "id": "3eb24e27-17d4-4205-ae3e-66cb2bdf9749"
      },
      "outputs": [],
      "source": [
        "# excluding non-numeric and columns that are not needed in descriptive summary function like df.describe(), correlation and skewness etc\n",
        "exclude_columns = {'CustomerID'}"
      ]
    },
    {
      "cell_type": "markdown",
      "id": "3542adaf-7fdb-49bf-a47c-0a91ea9e375a",
      "metadata": {
        "id": "3542adaf-7fdb-49bf-a47c-0a91ea9e375a"
      },
      "source": [
        "### Handling Duplicates Values"
      ]
    },
    {
      "cell_type": "markdown",
      "id": "c5cb29d9-61bb-451c-9330-ebcfc4858872",
      "metadata": {
        "id": "c5cb29d9-61bb-451c-9330-ebcfc4858872"
      },
      "source": [
        "We have identified 5,268 duplicate rows in the dataset. Duplicate records can lead to skewed analysis and biased results. To maintain data integrity, we remove these duplicates using the function below:\n"
      ]
    },
    {
      "cell_type": "code",
      "execution_count": 17,
      "id": "21f48baa-84dc-4f74-880b-fc5b6899f5ae",
      "metadata": {
        "id": "21f48baa-84dc-4f74-880b-fc5b6899f5ae"
      },
      "outputs": [],
      "source": [
        "df = df.drop_duplicates()"
      ]
    },
    {
      "cell_type": "code",
      "execution_count": 18,
      "id": "5d4454cd-7533-4922-b0ed-fa08b73f2302",
      "metadata": {
        "id": "5d4454cd-7533-4922-b0ed-fa08b73f2302",
        "outputId": "04abef2f-918e-4ad7-d30f-c088876c3591",
        "colab": {
          "base_uri": "https://localhost:8080/"
        }
      },
      "outputs": [
        {
          "output_type": "execute_result",
          "data": {
            "text/plain": [
              "(401604, 8)"
            ]
          },
          "metadata": {},
          "execution_count": 18
        }
      ],
      "source": [
        "df.shape"
      ]
    },
    {
      "cell_type": "markdown",
      "id": "6c414dbf-ce4b-464c-b34d-5c7fc347017c",
      "metadata": {
        "id": "6c414dbf-ce4b-464c-b34d-5c7fc347017c"
      },
      "source": [
        "## Exploratory Data Analysis"
      ]
    },
    {
      "cell_type": "markdown",
      "id": "1449adc0-d2b5-4ddd-bd8b-cf8e529d0f1b",
      "metadata": {
        "id": "1449adc0-d2b5-4ddd-bd8b-cf8e529d0f1b"
      },
      "source": [
        "### Data Type Conversion & Outlier Handling"
      ]
    },
    {
      "cell_type": "markdown",
      "id": "2ddb9e50-5eb6-4846-8e9d-d24f7586a48c",
      "metadata": {
        "id": "2ddb9e50-5eb6-4846-8e9d-d24f7586a48c"
      },
      "source": [
        "**1. Converting Data Types:**  \n",
        "- **InvoiceDate:**  \n",
        "  Convert the `InvoiceDate` column from an object to a datetime format. This conversion is crucial for time-based analyses, such as identifying purchasing trends or seasonal patterns.\n",
        "\n",
        "**2. Handling Outliers:**  \n",
        "- **Quantity and UnitPrice:**  \n",
        "  The dataset contains negative values in `Quantity` and `UnitPrice`, which could indicate returns or data entry corrections.  \n",
        "  - For customer segmentation focused on net sales behavior, we might choose to filter out these negative values.  \n",
        "  - Alternatively, if returns are relevant to our analysis, we could keep them but handle them separately.  \n",
        "  In this step, we will filter out rows where `Quantity` or `UnitPrice` is negative to focus on sales transactions.\n",
        "\n",
        "Below is a sample code snippet implementing these steps:\n"
      ]
    },
    {
      "cell_type": "code",
      "execution_count": 19,
      "id": "61697f2f-f2b5-4c10-802b-05d88e8fe6c7",
      "metadata": {
        "id": "61697f2f-f2b5-4c10-802b-05d88e8fe6c7"
      },
      "outputs": [],
      "source": [
        "df['InvoiceDate'] = pd.to_datetime(df['InvoiceDate'], format='%m/%d/%y %H:%M')"
      ]
    },
    {
      "cell_type": "code",
      "execution_count": 20,
      "id": "ef81fc68-d5c8-4b27-b192-3a194ef7d9bc",
      "metadata": {
        "id": "ef81fc68-d5c8-4b27-b192-3a194ef7d9bc"
      },
      "outputs": [],
      "source": [
        "# Filter out rows with negative Quantity or UnitPrice\n",
        "df = df[(df['Quantity'] > 0) & (df['UnitPrice'] > 0)]"
      ]
    },
    {
      "cell_type": "markdown",
      "id": "6ac45714-840a-4c6b-96f8-ff89db2fe9d2",
      "metadata": {
        "id": "6ac45714-840a-4c6b-96f8-ff89db2fe9d2"
      },
      "source": [
        "### Skewness"
      ]
    },
    {
      "cell_type": "code",
      "execution_count": 21,
      "id": "7f79d08f-6060-48f5-8630-8b982b89b29f",
      "metadata": {
        "id": "7f79d08f-6060-48f5-8630-8b982b89b29f"
      },
      "outputs": [],
      "source": [
        "filter_column = list(set(df.columns) - exclude_columns)"
      ]
    },
    {
      "cell_type": "code",
      "execution_count": 22,
      "id": "b9ab1e77-845f-47b0-aa87-78120e49e88f",
      "metadata": {
        "id": "b9ab1e77-845f-47b0-aa87-78120e49e88f",
        "outputId": "8a16f95a-5b87-4e46-bf0a-e821d0922635",
        "colab": {
          "base_uri": "https://localhost:8080/",
          "height": 521
        }
      },
      "outputs": [
        {
          "output_type": "stream",
          "name": "stdout",
          "text": [
            "Warning: The following non-numeric columns were excluded from skewness analysis: StockCode, InvoiceDate, Description, Country, InvoiceNo\n"
          ]
        },
        {
          "output_type": "display_data",
          "data": {
            "text/plain": [
              "<Figure size 1629x600 with 2 Axes>"
            ],
            "image/png": "[encoded data removed]"
          },
          "metadata": {}
        }
      ],
      "source": [
        "skewness = analyze_skewness(df, filter_column)"
      ]
    },
    {
      "cell_type": "code",
      "execution_count": 23,
      "id": "cda88e11-143f-4314-8d55-414f1b9cd9f5",
      "metadata": {
        "id": "cda88e11-143f-4314-8d55-414f1b9cd9f5",
        "outputId": "5b35cd16-4046-42db-a3fb-1a99bf990841",
        "colab": {
          "base_uri": "https://localhost:8080/"
        }
      },
      "outputs": [
        {
          "output_type": "stream",
          "name": "stdout",
          "text": [
            "- Highly skewed columns (suggesting log transformation): Quantity, UnitPrice\n",
            "\n",
            "Detailed Skewness Values:\n",
            "   Column  Skewness\n",
            " Quantity    407.35\n",
            "UnitPrice    202.74\n"
          ]
        }
      ],
      "source": [
        "print(summary_factory.generate_summary(\"skewness\", skewness))\n"
      ]
    },
    {
      "cell_type": "markdown",
      "id": "31c4266e-0482-4bd6-a784-047a38507621",
      "metadata": {
        "id": "31c4266e-0482-4bd6-a784-047a38507621"
      },
      "source": [
        "### Outliers"
      ]
    },
    {
      "cell_type": "code",
      "execution_count": 24,
      "id": "8c82fb0b-176a-48f0-a90d-3d5d0660d4ba",
      "metadata": {
        "id": "8c82fb0b-176a-48f0-a90d-3d5d0660d4ba",
        "outputId": "75b42dae-d31a-4a3e-9f08-bea9b468427c",
        "colab": {
          "base_uri": "https://localhost:8080/"
        }
      },
      "outputs": [
        {
          "output_type": "stream",
          "name": "stdout",
          "text": [
            "Quantity\n",
            "UnitPrice\n"
          ]
        }
      ],
      "source": [
        "# Chart_objs to create subpots - boxplot for each columns\n",
        "\n",
        "chart_objs = []\n",
        "for col in filter_column:\n",
        "    # print(col, skewness[col])\n",
        "    if df[col].dtypes in ['int64', 'float64']:\n",
        "        print(col)\n",
        "        chart_objs.append({\n",
        "        'plot_function':plot_functions['box'] ,\n",
        "        'title': f'Boxplot of {col}',  # Title for each individual column\n",
        "        'xlabel': col,\n",
        "        'ylabel': None,\n",
        "        'x': df[col],\n",
        "        'kwargs': { 'color': 'purple'}\n",
        "        })"
      ]
    },
    {
      "cell_type": "code",
      "execution_count": 25,
      "id": "91ef898a-c451-450e-95f4-e0143505e6bd",
      "metadata": {
        "id": "91ef898a-c451-450e-95f4-e0143505e6bd",
        "outputId": "cf075759-5503-44ad-9d55-0fc9fbfabf0c",
        "colab": {
          "base_uri": "https://localhost:8080/",
          "height": 368
        }
      },
      "outputs": [
        {
          "output_type": "display_data",
          "data": {
            "text/plain": [
              "<Figure size 1629x1200 with 2 Axes>"
            ],
            "image/png": "[encoded data removed]"
          },
          "metadata": {}
        }
      ],
      "source": [
        "# Fig - Visualizing the box plots for each numeric columns\n",
        "\n",
        "visualize_chart(chart_objs, nrows=(len(filter_column) // 3 + 1), ncols=3)\n",
        "plt.show()"
      ]
    },
    {
      "cell_type": "code",
      "execution_count": 26,
      "id": "d5a0949b-fe0b-43c1-8fbc-b03930e95d8e",
      "metadata": {
        "id": "d5a0949b-fe0b-43c1-8fbc-b03930e95d8e",
        "outputId": "424be278-6800-42b4-ddf8-319632804679",
        "colab": {
          "base_uri": "https://localhost:8080/"
        }
      },
      "outputs": [
        {
          "output_type": "stream",
          "name": "stdout",
          "text": [
            "Applying log transformation to Quantity due to high_skew skewness.\n",
            "Applying log transformation to UnitPrice due to high_skew skewness.\n",
            "Outliers detected for 'Quantity': 4488\n",
            "Outliers detected for 'UnitPrice': 4808\n"
          ]
        }
      ],
      "source": [
        "# Transforming data using (log , sqrt) transformations and separating df and outliers in separate dataframe\n",
        "df1, _ = best_transformation_with_outliers(df, skewness, handle_outliers=True, method='transform')"
      ]
    },
    {
      "cell_type": "markdown",
      "id": "23eabcc3-cafc-4843-bfc4-179910804968",
      "metadata": {
        "id": "23eabcc3-cafc-4843-bfc4-179910804968"
      },
      "source": [
        "### Outlier Detection Summary\n",
        "\n",
        "- **Quantity:** 4,488 outliers detected.\n",
        "- **UnitPrice:** 4,808 outliers detected.\n",
        "\n",
        "These outliers represent extreme values that could distort our analysis. We need to decide how to handle these:\n",
        "\n",
        "- **Capping (Winsorization):**  \n",
        "  Replace values above a certain percentile (e.g., 95th or 99th) with the threshold value. This retains all data points while mitigating the influence of extreme values.\n",
        "\n",
        "- **Removal:**  \n",
        "  Discard the rows with outlier values. This option removes potential distortions but may result in losing some valid, though extreme, observations.\n",
        "\n",
        "**Next Steps:**\n",
        "1. **Investigate the Distribution:**  \n",
        "   Review the distributions of `Quantity` and `UnitPrice` to understand the nature of these outliers better.\n",
        "\n",
        "2. **Decide on a Strategy:**  \n",
        "   Based on the analysis, choose either capping (if the outliers are genuine but extreme) or removal (if they are likely errors or anomalies).\n",
        "\n",
        "3. **Implement the Chosen Method:**  \n",
        "   Apply the appropriate function to handle these outliers before proceeding with further analysis.\n"
      ]
    },
    {
      "cell_type": "markdown",
      "id": "3fff5921-23d4-41c4-b028-47fa49af5ce0",
      "metadata": {
        "id": "3fff5921-23d4-41c4-b028-47fa49af5ce0"
      },
      "source": [
        "## Feature Engineering"
      ]
    },
    {
      "cell_type": "markdown",
      "id": "e1ba7f33-711b-4dcb-9c26-3fbcc521ec98",
      "metadata": {
        "id": "e1ba7f33-711b-4dcb-9c26-3fbcc521ec98"
      },
      "source": [
        "\n",
        "Having cleaned our data (handled missing values, duplicates, negative entries, and outliers), the next step is to aggregate transactions into customer‑level features for clustering. We’ll start with an RFM (Recency, Frequency, Monetary) framework — the industry standard for customer segmentation — then consider a few additional metrics."
      ]
    },
    {
      "cell_type": "code",
      "execution_count": 27,
      "id": "b36bd72b-d1b5-44b9-b518-14a712a9b72a",
      "metadata": {
        "id": "b36bd72b-d1b5-44b9-b518-14a712a9b72a"
      },
      "outputs": [],
      "source": [
        "# Compute TotalPrice\n",
        "df1['TotalPrice'] = df1['Quantity'] * df1['UnitPrice']"
      ]
    },
    {
      "cell_type": "code",
      "execution_count": 28,
      "id": "5c77d1cd-d278-48dd-b4b4-4ba0a2973660",
      "metadata": {
        "id": "5c77d1cd-d278-48dd-b4b4-4ba0a2973660",
        "outputId": "2ece4ad8-c0d5-4fdc-f2e0-9678b25eef5c",
        "colab": {
          "base_uri": "https://localhost:8080/",
          "height": 504
        }
      },
      "outputs": [
        {
          "output_type": "execute_result",
          "data": {
            "text/plain": [
              "  InvoiceNo StockCode                          Description  Quantity         InvoiceDate  \\\n",
              "0    536365    85123A   WHITE HANGING HEART T-LIGHT HOLDER      1.95 2010-12-01 08:26:00   \n",
              "1    536365     71053                  WHITE METAL LANTERN      1.95 2010-12-01 08:26:00   \n",
              "2    536365    84406B       CREAM CUPID HEARTS COAT HANGER      2.20 2010-12-01 08:26:00   \n",
              "3    536365    84029G  KNITTED UNION FLAG HOT WATER BOTTLE      1.95 2010-12-01 08:26:00   \n",
              "4    536365    84029E       RED WOOLLY HOTTIE WHITE HEART.      1.95 2010-12-01 08:26:00   \n",
              "\n",
              "   UnitPrice  CustomerID         Country  TotalPrice  \n",
              "0       1.27   17,850.00  United Kingdom        2.47  \n",
              "1       1.48   17,850.00  United Kingdom        2.88  \n",
              "2       1.32   17,850.00  United Kingdom        2.90  \n",
              "3       1.48   17,850.00  United Kingdom        2.88  \n",
              "4       1.48   17,850.00  United Kingdom        2.88  "
            ],
            "text/html": [
              "\n",
              "  <div id=\"df-a2aff726-e32a-408e-932e-b129c3d54c14\" class=\"colab-df-container\">\n",
              "    <div>\n",
              "<style scoped>\n",
              "    .dataframe tbody tr th:only-of-type {\n",
              "        vertical-align: middle;\n",
              "    }\n",
              "\n",
              "    .dataframe tbody tr th {\n",
              "        vertical-align: top;\n",
              "    }\n",
              "\n",
              "    .dataframe thead th {\n",
              "        text-align: right;\n",
              "    }\n",
              "</style>\n",
              "<table border=\"1\" class=\"dataframe\">\n",
              "  <thead>\n",
              "    <tr style=\"text-align: right;\">\n",
              "      <th></th>\n",
              "      <th>InvoiceNo</th>\n",
              "      <th>StockCode</th>\n",
              "      <th>Description</th>\n",
              "      <th>Quantity</th>\n",
              "      <th>InvoiceDate</th>\n",
              "      <th>UnitPrice</th>\n",
              "      <th>CustomerID</th>\n",
              "      <th>Country</th>\n",
              "      <th>TotalPrice</th>\n",
              "    </tr>\n",
              "  </thead>\n",
              "  <tbody>\n",
              "    <tr>\n",
              "      <th>0</th>\n",
              "      <td>536365</td>\n",
              "      <td>85123A</td>\n",
              "      <td>WHITE HANGING HEART T-LIGHT HOLDER</td>\n",
              "      <td>1.95</td>\n",
              "      <td>2010-12-01 08:26:00</td>\n",
              "      <td>1.27</td>\n",
              "      <td>17,850.00</td>\n",
              "      <td>United Kingdom</td>\n",
              "      <td>2.47</td>\n",
              "    </tr>\n",
              "    <tr>\n",
              "      <th>1</th>\n",
              "      <td>536365</td>\n",
              "      <td>71053</td>\n",
              "      <td>WHITE METAL LANTERN</td>\n",
              "      <td>1.95</td>\n",
              "      <td>2010-12-01 08:26:00</td>\n",
              "      <td>1.48</td>\n",
              "      <td>17,850.00</td>\n",
              "      <td>United Kingdom</td>\n",
              "      <td>2.88</td>\n",
              "    </tr>\n",
              "    <tr>\n",
              "      <th>2</th>\n",
              "      <td>536365</td>\n",
              "      <td>84406B</td>\n",
              "      <td>CREAM CUPID HEARTS COAT HANGER</td>\n",
              "      <td>2.20</td>\n",
              "      <td>2010-12-01 08:26:00</td>\n",
              "      <td>1.32</td>\n",
              "      <td>17,850.00</td>\n",
              "      <td>United Kingdom</td>\n",
              "      <td>2.90</td>\n",
              "    </tr>\n",
              "    <tr>\n",
              "      <th>3</th>\n",
              "      <td>536365</td>\n",
              "      <td>84029G</td>\n",
              "      <td>KNITTED UNION FLAG HOT WATER BOTTLE</td>\n",
              "      <td>1.95</td>\n",
              "      <td>2010-12-01 08:26:00</td>\n",
              "      <td>1.48</td>\n",
              "      <td>17,850.00</td>\n",
              "      <td>United Kingdom</td>\n",
              "      <td>2.88</td>\n",
              "    </tr>\n",
              "    <tr>\n",
              "      <th>4</th>\n",
              "      <td>536365</td>\n",
              "      <td>84029E</td>\n",
              "      <td>RED WOOLLY HOTTIE WHITE HEART.</td>\n",
              "      <td>1.95</td>\n",
              "      <td>2010-12-01 08:26:00</td>\n",
              "      <td>1.48</td>\n",
              "      <td>17,850.00</td>\n",
              "      <td>United Kingdom</td>\n",
              "      <td>2.88</td>\n",
              "    </tr>\n",
              "  </tbody>\n",
              "</table>\n",
              "</div>\n",
              "    <div class=\"colab-df-buttons\">\n",
              "\n",
              "  <div class=\"colab-df-container\">\n",
              "    <button class=\"colab-df-convert\" onclick=\"convertToInteractive('df-a2aff726-e32a-408e-932e-b129c3d54c14')\"\n",
              "            title=\"Convert this dataframe to an interactive table.\"\n",
              "            style=\"display:none;\">\n",
              "\n",
              "  <svg xmlns=\"http://www.w3.org/2000/svg\" height=\"24px\" viewBox=\"0 -960 960 960\">\n",
              "    <path d=\"M120-120v-720h720v720H120Zm60-500h600v-160H180v160Zm220 220h160v-160H400v160Zm0 220h160v-160H400v160ZM180-400h160v-160H180v160Zm440 0h160v-160H620v160ZM180-180h160v-160H180v160Zm440 0h160v-160H620v160Z\"/>\n",
              "  </svg>\n",
              "    </button>\n",
              "\n",
              "  <style>\n",
              "    .colab-df-container {\n",
              "      display:flex;\n",
              "      gap: 12px;\n",
              "    }\n",
              "\n",
              "    .colab-df-convert {\n",
              "      background-color: #E8F0FE;\n",
              "      border: none;\n",
              "      border-radius: 50%;\n",
              "      cursor: pointer;\n",
              "      display: none;\n",
              "      fill: #1967D2;\n",
              "      height: 32px;\n",
              "      padding: 0 0 0 0;\n",
              "      width: 32px;\n",
              "    }\n",
              "\n",
              "    .colab-df-convert:hover {\n",
              "      background-color: #E2EBFA;\n",
              "      box-shadow: 0px 1px 2px rgba(60, 64, 67, 0.3), 0px 1px 3px 1px rgba(60, 64, 67, 0.15);\n",
              "      fill: #174EA6;\n",
              "    }\n",
              "\n",
              "    .colab-df-buttons div {\n",
              "      margin-bottom: 4px;\n",
              "    }\n",
              "\n",
              "    [theme=dark] .colab-df-convert {\n",
              "      background-color: #3B4455;\n",
              "      fill: #D2E3FC;\n",
              "    }\n",
              "\n",
              "    [theme=dark] .colab-df-convert:hover {\n",
              "      background-color: #434B5C;\n",
              "      box-shadow: 0px 1px 3px 1px rgba(0, 0, 0, 0.15);\n",
              "      filter: drop-shadow(0px 1px 2px rgba(0, 0, 0, 0.3));\n",
              "      fill: #FFFFFF;\n",
              "    }\n",
              "  </style>\n",
              "\n",
              "    <script>\n",
              "      const buttonEl =\n",
              "        document.querySelector('#df-a2aff726-e32a-408e-932e-b129c3d54c14 button.colab-df-convert');\n",
              "      buttonEl.style.display =\n",
              "        google.colab.kernel.accessAllowed ? 'block' : 'none';\n",
              "\n",
              "      async function convertToInteractive(key) {\n",
              "        const element = document.querySelector('#df-a2aff726-e32a-408e-932e-b129c3d54c14');\n",
              "        const dataTable =\n",
              "          await google.colab.kernel.invokeFunction('convertToInteractive',\n",
              "                                                    [key], {});\n",
              "        if (!dataTable) return;\n",
              "\n",
              "        const docLinkHtml = 'Like what you see? Visit the ' +\n",
              "          '<a target=\"_blank\" href=https://colab.research.google.com/notebooks/data_table.ipynb>data table notebook</a>'\n",
              "          + ' to learn more about interactive tables.';\n",
              "        element.innerHTML = '';\n",
              "        dataTable['output_type'] = 'display_data';\n",
              "        await google.colab.output.renderOutput(dataTable, element);\n",
              "        const docLink = document.createElement('div');\n",
              "        docLink.innerHTML = docLinkHtml;\n",
              "        element.appendChild(docLink);\n",
              "      }\n",
              "    </script>\n",
              "  </div>\n",
              "\n",
              "\n",
              "<div id=\"df-b9b977de-a446-49cd-b38a-3cd24a053fd4\">\n",
              "  <button class=\"colab-df-quickchart\" onclick=\"quickchart('df-b9b977de-a446-49cd-b38a-3cd24a053fd4')\"\n",
              "            title=\"Suggest charts\"\n",
              "            style=\"display:none;\">\n",
              "\n",
              "<svg xmlns=\"http://www.w3.org/2000/svg\" height=\"24px\"viewBox=\"0 0 24 24\"\n",
              "     width=\"24px\">\n",
              "    <g>\n",
              "        <path d=\"M19 3H5c-1.1 0-2 .9-2 2v14c0 1.1.9 2 2 2h14c1.1 0 2-.9 2-2V5c0-1.1-.9-2-2-2zM9 17H7v-7h2v7zm4 0h-2V7h2v10zm4 0h-2v-4h2v4z\"/>\n",
              "    </g>\n",
              "</svg>\n",
              "  </button>\n",
              "\n",
              "<style>\n",
              "  .colab-df-quickchart {\n",
              "      --bg-color: #E8F0FE;\n",
              "      --fill-color: #1967D2;\n",
              "      --hover-bg-color: #E2EBFA;\n",
              "      --hover-fill-color: #174EA6;\n",
              "      --disabled-fill-color: #AAA;\n",
              "      --disabled-bg-color: #DDD;\n",
              "  }\n",
              "\n",
              "  [theme=dark] .colab-df-quickchart {\n",
              "      --bg-color: #3B4455;\n",
              "      --fill-color: #D2E3FC;\n",
              "      --hover-bg-color: #434B5C;\n",
              "      --hover-fill-color: #FFFFFF;\n",
              "      --disabled-bg-color: #3B4455;\n",
              "      --disabled-fill-color: #666;\n",
              "  }\n",
              "\n",
              "  .colab-df-quickchart {\n",
              "    background-color: var(--bg-color);\n",
              "    border: none;\n",
              "    border-radius: 50%;\n",
              "    cursor: pointer;\n",
              "    display: none;\n",
              "    fill: var(--fill-color);\n",
              "    height: 32px;\n",
              "    padding: 0;\n",
              "    width: 32px;\n",
              "  }\n",
              "\n",
              "  .colab-df-quickchart:hover {\n",
              "    background-color: var(--hover-bg-color);\n",
              "    box-shadow: 0 1px 2px rgba(60, 64, 67, 0.3), 0 1px 3px 1px rgba(60, 64, 67, 0.15);\n",
              "    fill: var(--button-hover-fill-color);\n",
              "  }\n",
              "\n",
              "  .colab-df-quickchart-complete:disabled,\n",
              "  .colab-df-quickchart-complete:disabled:hover {\n",
              "    background-color: var(--disabled-bg-color);\n",
              "    fill: var(--disabled-fill-color);\n",
              "    box-shadow: none;\n",
              "  }\n",
              "\n",
              "  .colab-df-spinner {\n",
              "    border: 2px solid var(--fill-color);\n",
              "    border-color: transparent;\n",
              "    border-bottom-color: var(--fill-color);\n",
              "    animation:\n",
              "      spin 1s steps(1) infinite;\n",
              "  }\n",
              "\n",
              "  @keyframes spin {\n",
              "    0% {\n",
              "      border-color: transparent;\n",
              "      border-bottom-color: var(--fill-color);\n",
              "      border-left-color: var(--fill-color);\n",
              "    }\n",
              "    20% {\n",
              "      border-color: transparent;\n",
              "      border-left-color: var(--fill-color);\n",
              "      border-top-color: var(--fill-color);\n",
              "    }\n",
              "    30% {\n",
              "      border-color: transparent;\n",
              "      border-left-color: var(--fill-color);\n",
              "      border-top-color: var(--fill-color);\n",
              "      border-right-color: var(--fill-color);\n",
              "    }\n",
              "    40% {\n",
              "      border-color: transparent;\n",
              "      border-right-color: var(--fill-color);\n",
              "      border-top-color: var(--fill-color);\n",
              "    }\n",
              "    60% {\n",
              "      border-color: transparent;\n",
              "      border-right-color: var(--fill-color);\n",
              "    }\n",
              "    80% {\n",
              "      border-color: transparent;\n",
              "      border-right-color: var(--fill-color);\n",
              "      border-bottom-color: var(--fill-color);\n",
              "    }\n",
              "    90% {\n",
              "      border-color: transparent;\n",
              "      border-bottom-color: var(--fill-color);\n",
              "    }\n",
              "  }\n",
              "</style>\n",
              "\n",
              "  <script>\n",
              "    async function quickchart(key) {\n",
              "      const quickchartButtonEl =\n",
              "        document.querySelector('#' + key + ' button');\n",
              "      quickchartButtonEl.disabled = true;  // To prevent multiple clicks.\n",
              "      quickchartButtonEl.classList.add('colab-df-spinner');\n",
              "      try {\n",
              "        const charts = await google.colab.kernel.invokeFunction(\n",
              "            'suggestCharts', [key], {});\n",
              "      } catch (error) {\n",
              "        console.error('Error during call to suggestCharts:', error);\n",
              "      }\n",
              "      quickchartButtonEl.classList.remove('colab-df-spinner');\n",
              "      quickchartButtonEl.classList.add('colab-df-quickchart-complete');\n",
              "    }\n",
              "    (() => {\n",
              "      let quickchartButtonEl =\n",
              "        document.querySelector('#df-b9b977de-a446-49cd-b38a-3cd24a053fd4 button');\n",
              "      quickchartButtonEl.style.display =\n",
              "        google.colab.kernel.accessAllowed ? 'block' : 'none';\n",
              "    })();\n",
              "  </script>\n",
              "</div>\n",
              "\n",
              "    </div>\n",
              "  </div>\n"
            ],
            "application/vnd.google.colaboratory.intrinsic+json": {
              "type": "dataframe",
              "variable_name": "df1"
            }
          },
          "metadata": {},
          "execution_count": 28
        }
      ],
      "source": [
        "df1.head()"
      ]
    },
    {
      "cell_type": "markdown",
      "id": "a869d6cf-cfa5-4555-9002-c7f044076cfc",
      "metadata": {
        "id": "a869d6cf-cfa5-4555-9002-c7f044076cfc"
      },
      "source": [
        "### Building the RFM Table\n",
        "\n",
        "We’ll now transform transaction‑level data into customer‑level features for clustering.\n"
      ]
    },
    {
      "cell_type": "code",
      "execution_count": 29,
      "id": "38a8c151-3f62-4ffc-87c8-c29f3ff478d9",
      "metadata": {
        "id": "38a8c151-3f62-4ffc-87c8-c29f3ff478d9"
      },
      "outputs": [],
      "source": [
        "reference_date = df1['InvoiceDate'].max() + pd.Timedelta(days=1)"
      ]
    },
    {
      "cell_type": "code",
      "execution_count": 30,
      "id": "9d2f6026-da42-4142-9da9-ca4509fddb67",
      "metadata": {
        "id": "9d2f6026-da42-4142-9da9-ca4509fddb67"
      },
      "outputs": [],
      "source": [
        "rfm = df1.groupby('CustomerID').agg(\n",
        "        Recency=('InvoiceDate', lambda x: (reference_date - x.max()).days),\n",
        "        Frequency=('InvoiceNo', 'nunique'),\n",
        "        Monetary=('TotalPrice', 'sum')\n",
        "    )"
      ]
    },
    {
      "cell_type": "code",
      "execution_count": 31,
      "id": "6430e5ef-c7eb-4bf0-8442-25f75b9a237f",
      "metadata": {
        "id": "6430e5ef-c7eb-4bf0-8442-25f75b9a237f"
      },
      "outputs": [],
      "source": [
        "rfm['Monetary_log'] = np.log1p(rfm['Monetary'])"
      ]
    },
    {
      "cell_type": "code",
      "execution_count": 32,
      "id": "a50e6d73-f7e5-4725-935b-2aef4fd647b4",
      "metadata": {
        "id": "a50e6d73-f7e5-4725-935b-2aef4fd647b4",
        "outputId": "021e4ceb-260d-43df-bfd3-01f8aae8973b",
        "colab": {
          "base_uri": "https://localhost:8080/",
          "height": 238
        }
      },
      "outputs": [
        {
          "output_type": "execute_result",
          "data": {
            "text/plain": [
              "            Recency  Frequency  Monetary  Monetary_log\n",
              "CustomerID                                            \n",
              "12,346.00       326          1      3.40          1.48\n",
              "12,347.00         2          7    460.86          6.14\n",
              "12,348.00        75          4     67.15          4.22\n",
              "12,349.00        19          1    181.37          5.21\n",
              "12,350.00       310          1     39.29          3.70"
            ],
            "text/html": [
              "\n",
              "  <div id=\"df-e31c31ee-d64f-46b1-9a9d-c77bc3983d8f\" class=\"colab-df-container\">\n",
              "    <div>\n",
              "<style scoped>\n",
              "    .dataframe tbody tr th:only-of-type {\n",
              "        vertical-align: middle;\n",
              "    }\n",
              "\n",
              "    .dataframe tbody tr th {\n",
              "        vertical-align: top;\n",
              "    }\n",
              "\n",
              "    .dataframe thead th {\n",
              "        text-align: right;\n",
              "    }\n",
              "</style>\n",
              "<table border=\"1\" class=\"dataframe\">\n",
              "  <thead>\n",
              "    <tr style=\"text-align: right;\">\n",
              "      <th></th>\n",
              "      <th>Recency</th>\n",
              "      <th>Frequency</th>\n",
              "      <th>Monetary</th>\n",
              "      <th>Monetary_log</th>\n",
              "    </tr>\n",
              "    <tr>\n",
              "      <th>CustomerID</th>\n",
              "      <th></th>\n",
              "      <th></th>\n",
              "      <th></th>\n",
              "      <th></th>\n",
              "    </tr>\n",
              "  </thead>\n",
              "  <tbody>\n",
              "    <tr>\n",
              "      <th>12,346.00</th>\n",
              "      <td>326</td>\n",
              "      <td>1</td>\n",
              "      <td>3.40</td>\n",
              "      <td>1.48</td>\n",
              "    </tr>\n",
              "    <tr>\n",
              "      <th>12,347.00</th>\n",
              "      <td>2</td>\n",
              "      <td>7</td>\n",
              "      <td>460.86</td>\n",
              "      <td>6.14</td>\n",
              "    </tr>\n",
              "    <tr>\n",
              "      <th>12,348.00</th>\n",
              "      <td>75</td>\n",
              "      <td>4</td>\n",
              "      <td>67.15</td>\n",
              "      <td>4.22</td>\n",
              "    </tr>\n",
              "    <tr>\n",
              "      <th>12,349.00</th>\n",
              "      <td>19</td>\n",
              "      <td>1</td>\n",
              "      <td>181.37</td>\n",
              "      <td>5.21</td>\n",
              "    </tr>\n",
              "    <tr>\n",
              "      <th>12,350.00</th>\n",
              "      <td>310</td>\n",
              "      <td>1</td>\n",
              "      <td>39.29</td>\n",
              "      <td>3.70</td>\n",
              "    </tr>\n",
              "  </tbody>\n",
              "</table>\n",
              "</div>\n",
              "    <div class=\"colab-df-buttons\">\n",
              "\n",
              "  <div class=\"colab-df-container\">\n",
              "    <button class=\"colab-df-convert\" onclick=\"convertToInteractive('df-e31c31ee-d64f-46b1-9a9d-c77bc3983d8f')\"\n",
              "            title=\"Convert this dataframe to an interactive table.\"\n",
              "            style=\"display:none;\">\n",
              "\n",
              "  <svg xmlns=\"http://www.w3.org/2000/svg\" height=\"24px\" viewBox=\"0 -960 960 960\">\n",
              "    <path d=\"M120-120v-720h720v720H120Zm60-500h600v-160H180v160Zm220 220h160v-160H400v160Zm0 220h160v-160H400v160ZM180-400h160v-160H180v160Zm440 0h160v-160H620v160ZM180-180h160v-160H180v160Zm440 0h160v-160H620v160Z\"/>\n",
              "  </svg>\n",
              "    </button>\n",
              "\n",
              "  <style>\n",
              "    .colab-df-container {\n",
              "      display:flex;\n",
              "      gap: 12px;\n",
              "    }\n",
              "\n",
              "    .colab-df-convert {\n",
              "      background-color: #E8F0FE;\n",
              "      border: none;\n",
              "      border-radius: 50%;\n",
              "      cursor: pointer;\n",
              "      display: none;\n",
              "      fill: #1967D2;\n",
              "      height: 32px;\n",
              "      padding: 0 0 0 0;\n",
              "      width: 32px;\n",
              "    }\n",
              "\n",
              "    .colab-df-convert:hover {\n",
              "      background-color: #E2EBFA;\n",
              "      box-shadow: 0px 1px 2px rgba(60, 64, 67, 0.3), 0px 1px 3px 1px rgba(60, 64, 67, 0.15);\n",
              "      fill: #174EA6;\n",
              "    }\n",
              "\n",
              "    .colab-df-buttons div {\n",
              "      margin-bottom: 4px;\n",
              "    }\n",
              "\n",
              "    [theme=dark] .colab-df-convert {\n",
              "      background-color: #3B4455;\n",
              "      fill: #D2E3FC;\n",
              "    }\n",
              "\n",
              "    [theme=dark] .colab-df-convert:hover {\n",
              "      background-color: #434B5C;\n",
              "      box-shadow: 0px 1px 3px 1px rgba(0, 0, 0, 0.15);\n",
              "      filter: drop-shadow(0px 1px 2px rgba(0, 0, 0, 0.3));\n",
              "      fill: #FFFFFF;\n",
              "    }\n",
              "  </style>\n",
              "\n",
              "    <script>\n",
              "      const buttonEl =\n",
              "        document.querySelector('#df-e31c31ee-d64f-46b1-9a9d-c77bc3983d8f button.colab-df-convert');\n",
              "      buttonEl.style.display =\n",
              "        google.colab.kernel.accessAllowed ? 'block' : 'none';\n",
              "\n",
              "      async function convertToInteractive(key) {\n",
              "        const element = document.querySelector('#df-e31c31ee-d64f-46b1-9a9d-c77bc3983d8f');\n",
              "        const dataTable =\n",
              "          await google.colab.kernel.invokeFunction('convertToInteractive',\n",
              "                                                    [key], {});\n",
              "        if (!dataTable) return;\n",
              "\n",
              "        const docLinkHtml = 'Like what you see? Visit the ' +\n",
              "          '<a target=\"_blank\" href=https://colab.research.google.com/notebooks/data_table.ipynb>data table notebook</a>'\n",
              "          + ' to learn more about interactive tables.';\n",
              "        element.innerHTML = '';\n",
              "        dataTable['output_type'] = 'display_data';\n",
              "        await google.colab.output.renderOutput(dataTable, element);\n",
              "        const docLink = document.createElement('div');\n",
              "        docLink.innerHTML = docLinkHtml;\n",
              "        element.appendChild(docLink);\n",
              "      }\n",
              "    </script>\n",
              "  </div>\n",
              "\n",
              "\n",
              "<div id=\"df-6ba1c173-9443-45d8-bd14-95384b5e9c8f\">\n",
              "  <button class=\"colab-df-quickchart\" onclick=\"quickchart('df-6ba1c173-9443-45d8-bd14-95384b5e9c8f')\"\n",
              "            title=\"Suggest charts\"\n",
              "            style=\"display:none;\">\n",
              "\n",
              "<svg xmlns=\"http://www.w3.org/2000/svg\" height=\"24px\"viewBox=\"0 0 24 24\"\n",
              "     width=\"24px\">\n",
              "    <g>\n",
              "        <path d=\"M19 3H5c-1.1 0-2 .9-2 2v14c0 1.1.9 2 2 2h14c1.1 0 2-.9 2-2V5c0-1.1-.9-2-2-2zM9 17H7v-7h2v7zm4 0h-2V7h2v10zm4 0h-2v-4h2v4z\"/>\n",
              "    </g>\n",
              "</svg>\n",
              "  </button>\n",
              "\n",
              "<style>\n",
              "  .colab-df-quickchart {\n",
              "      --bg-color: #E8F0FE;\n",
              "      --fill-color: #1967D2;\n",
              "      --hover-bg-color: #E2EBFA;\n",
              "      --hover-fill-color: #174EA6;\n",
              "      --disabled-fill-color: #AAA;\n",
              "      --disabled-bg-color: #DDD;\n",
              "  }\n",
              "\n",
              "  [theme=dark] .colab-df-quickchart {\n",
              "      --bg-color: #3B4455;\n",
              "      --fill-color: #D2E3FC;\n",
              "      --hover-bg-color: #434B5C;\n",
              "      --hover-fill-color: #FFFFFF;\n",
              "      --disabled-bg-color: #3B4455;\n",
              "      --disabled-fill-color: #666;\n",
              "  }\n",
              "\n",
              "  .colab-df-quickchart {\n",
              "    background-color: var(--bg-color);\n",
              "    border: none;\n",
              "    border-radius: 50%;\n",
              "    cursor: pointer;\n",
              "    display: none;\n",
              "    fill: var(--fill-color);\n",
              "    height: 32px;\n",
              "    padding: 0;\n",
              "    width: 32px;\n",
              "  }\n",
              "\n",
              "  .colab-df-quickchart:hover {\n",
              "    background-color: var(--hover-bg-color);\n",
              "    box-shadow: 0 1px 2px rgba(60, 64, 67, 0.3), 0 1px 3px 1px rgba(60, 64, 67, 0.15);\n",
              "    fill: var(--button-hover-fill-color);\n",
              "  }\n",
              "\n",
              "  .colab-df-quickchart-complete:disabled,\n",
              "  .colab-df-quickchart-complete:disabled:hover {\n",
              "    background-color: var(--disabled-bg-color);\n",
              "    fill: var(--disabled-fill-color);\n",
              "    box-shadow: none;\n",
              "  }\n",
              "\n",
              "  .colab-df-spinner {\n",
              "    border: 2px solid var(--fill-color);\n",
              "    border-color: transparent;\n",
              "    border-bottom-color: var(--fill-color);\n",
              "    animation:\n",
              "      spin 1s steps(1) infinite;\n",
              "  }\n",
              "\n",
              "  @keyframes spin {\n",
              "    0% {\n",
              "      border-color: transparent;\n",
              "      border-bottom-color: var(--fill-color);\n",
              "      border-left-color: var(--fill-color);\n",
              "    }\n",
              "    20% {\n",
              "      border-color: transparent;\n",
              "      border-left-color: var(--fill-color);\n",
              "      border-top-color: var(--fill-color);\n",
              "    }\n",
              "    30% {\n",
              "      border-color: transparent;\n",
              "      border-left-color: var(--fill-color);\n",
              "      border-top-color: var(--fill-color);\n",
              "      border-right-color: var(--fill-color);\n",
              "    }\n",
              "    40% {\n",
              "      border-color: transparent;\n",
              "      border-right-color: var(--fill-color);\n",
              "      border-top-color: var(--fill-color);\n",
              "    }\n",
              "    60% {\n",
              "      border-color: transparent;\n",
              "      border-right-color: var(--fill-color);\n",
              "    }\n",
              "    80% {\n",
              "      border-color: transparent;\n",
              "      border-right-color: var(--fill-color);\n",
              "      border-bottom-color: var(--fill-color);\n",
              "    }\n",
              "    90% {\n",
              "      border-color: transparent;\n",
              "      border-bottom-color: var(--fill-color);\n",
              "    }\n",
              "  }\n",
              "</style>\n",
              "\n",
              "  <script>\n",
              "    async function quickchart(key) {\n",
              "      const quickchartButtonEl =\n",
              "        document.querySelector('#' + key + ' button');\n",
              "      quickchartButtonEl.disabled = true;  // To prevent multiple clicks.\n",
              "      quickchartButtonEl.classList.add('colab-df-spinner');\n",
              "      try {\n",
              "        const charts = await google.colab.kernel.invokeFunction(\n",
              "            'suggestCharts', [key], {});\n",
              "      } catch (error) {\n",
              "        console.error('Error during call to suggestCharts:', error);\n",
              "      }\n",
              "      quickchartButtonEl.classList.remove('colab-df-spinner');\n",
              "      quickchartButtonEl.classList.add('colab-df-quickchart-complete');\n",
              "    }\n",
              "    (() => {\n",
              "      let quickchartButtonEl =\n",
              "        document.querySelector('#df-6ba1c173-9443-45d8-bd14-95384b5e9c8f button');\n",
              "      quickchartButtonEl.style.display =\n",
              "        google.colab.kernel.accessAllowed ? 'block' : 'none';\n",
              "    })();\n",
              "  </script>\n",
              "</div>\n",
              "\n",
              "    </div>\n",
              "  </div>\n"
            ],
            "application/vnd.google.colaboratory.intrinsic+json": {
              "type": "dataframe",
              "variable_name": "rfm",
              "summary": "{\n  \"name\": \"rfm\",\n  \"rows\": 4338,\n  \"fields\": [\n    {\n      \"column\": \"CustomerID\",\n      \"properties\": {\n        \"dtype\": \"number\",\n        \"std\": 1721.8084917653164,\n        \"min\": 12346.0,\n        \"max\": 18287.0,\n        \"num_unique_values\": 4338,\n        \"samples\": [\n          17785.0,\n          14320.0,\n          15977.0\n        ],\n        \"semantic_type\": \"\",\n        \"description\": \"\"\n      }\n    },\n    {\n      \"column\": \"Recency\",\n      \"properties\": {\n        \"dtype\": \"number\",\n        \"std\": 100,\n        \"min\": 1,\n        \"max\": 374,\n        \"num_unique_values\": 349,\n        \"samples\": [\n          187,\n          118,\n          69\n        ],\n        \"semantic_type\": \"\",\n        \"description\": \"\"\n      }\n    },\n    {\n      \"column\": \"Frequency\",\n      \"properties\": {\n        \"dtype\": \"number\",\n        \"std\": 7,\n        \"min\": 1,\n        \"max\": 209,\n        \"num_unique_values\": 59,\n        \"samples\": [\n          1,\n          2,\n          62\n        ],\n        \"semantic_type\": \"\",\n        \"description\": \"\"\n      }\n    },\n    {\n      \"column\": \"Monetary\",\n      \"properties\": {\n        \"dtype\": \"number\",\n        \"std\": 409.03020092119357,\n        \"min\": 0.7480372898571171,\n        \"max\": 13868.21221442529,\n        \"num_unique_values\": 4318,\n        \"samples\": [\n          1005.4764014283322,\n          66.54746072797678,\n          1277.8772931636977\n        ],\n        \"semantic_type\": \"\",\n        \"description\": \"\"\n      }\n    },\n    {\n      \"column\": \"Monetary_log\",\n      \"properties\": {\n        \"dtype\": \"number\",\n        \"std\": 1.20447483322992,\n        \"min\": 0.5584936098760056,\n        \"max\": 9.537426713889426,\n        \"num_unique_values\": 4318,\n        \"samples\": [\n          6.914210798633428,\n          4.212830472700045,\n          7.153737857307611\n        ],\n        \"semantic_type\": \"\",\n        \"description\": \"\"\n      }\n    }\n  ]\n}"
            }
          },
          "metadata": {},
          "execution_count": 32
        }
      ],
      "source": [
        "rfm.head()"
      ]
    },
    {
      "cell_type": "code",
      "execution_count": 33,
      "id": "562d6bd8-0cfb-4768-8608-1745557b944f",
      "metadata": {
        "id": "562d6bd8-0cfb-4768-8608-1745557b944f"
      },
      "outputs": [],
      "source": [
        "rfm_scaled = scale_rfm_features(rfm)"
      ]
    },
    {
      "cell_type": "code",
      "execution_count": 34,
      "id": "43f000b7-d5f6-43d3-8ace-2b2e0da5c141",
      "metadata": {
        "id": "43f000b7-d5f6-43d3-8ace-2b2e0da5c141",
        "outputId": "015f801e-7837-4085-d909-4362bbff8a45",
        "colab": {
          "base_uri": "https://localhost:8080/",
          "height": 238
        }
      },
      "outputs": [
        {
          "output_type": "execute_result",
          "data": {
            "text/plain": [
              "            Recency_scaled  Frequency_scaled  Monetary_scaled\n",
              "CustomerID                                                   \n",
              "12,346.00             2.33             -0.43            -2.46\n",
              "12,347.00            -0.91              0.35             1.41\n",
              "12,348.00            -0.18             -0.04            -0.18\n",
              "12,349.00            -0.74             -0.43             0.63\n",
              "12,350.00             2.17             -0.43            -0.62"
            ],
            "text/html": [
              "\n",
              "  <div id=\"df-589d65be-e1f5-4647-9428-e8e80c4a4778\" class=\"colab-df-container\">\n",
              "    <div>\n",
              "<style scoped>\n",
              "    .dataframe tbody tr th:only-of-type {\n",
              "        vertical-align: middle;\n",
              "    }\n",
              "\n",
              "    .dataframe tbody tr th {\n",
              "        vertical-align: top;\n",
              "    }\n",
              "\n",
              "    .dataframe thead th {\n",
              "        text-align: right;\n",
              "    }\n",
              "</style>\n",
              "<table border=\"1\" class=\"dataframe\">\n",
              "  <thead>\n",
              "    <tr style=\"text-align: right;\">\n",
              "      <th></th>\n",
              "      <th>Recency_scaled</th>\n",
              "      <th>Frequency_scaled</th>\n",
              "      <th>Monetary_scaled</th>\n",
              "    </tr>\n",
              "    <tr>\n",
              "      <th>CustomerID</th>\n",
              "      <th></th>\n",
              "      <th></th>\n",
              "      <th></th>\n",
              "    </tr>\n",
              "  </thead>\n",
              "  <tbody>\n",
              "    <tr>\n",
              "      <th>12,346.00</th>\n",
              "      <td>2.33</td>\n",
              "      <td>-0.43</td>\n",
              "      <td>-2.46</td>\n",
              "    </tr>\n",
              "    <tr>\n",
              "      <th>12,347.00</th>\n",
              "      <td>-0.91</td>\n",
              "      <td>0.35</td>\n",
              "      <td>1.41</td>\n",
              "    </tr>\n",
              "    <tr>\n",
              "      <th>12,348.00</th>\n",
              "      <td>-0.18</td>\n",
              "      <td>-0.04</td>\n",
              "      <td>-0.18</td>\n",
              "    </tr>\n",
              "    <tr>\n",
              "      <th>12,349.00</th>\n",
              "      <td>-0.74</td>\n",
              "      <td>-0.43</td>\n",
              "      <td>0.63</td>\n",
              "    </tr>\n",
              "    <tr>\n",
              "      <th>12,350.00</th>\n",
              "      <td>2.17</td>\n",
              "      <td>-0.43</td>\n",
              "      <td>-0.62</td>\n",
              "    </tr>\n",
              "  </tbody>\n",
              "</table>\n",
              "</div>\n",
              "    <div class=\"colab-df-buttons\">\n",
              "\n",
              "  <div class=\"colab-df-container\">\n",
              "    <button class=\"colab-df-convert\" onclick=\"convertToInteractive('df-589d65be-e1f5-4647-9428-e8e80c4a4778')\"\n",
              "            title=\"Convert this dataframe to an interactive table.\"\n",
              "            style=\"display:none;\">\n",
              "\n",
              "  <svg xmlns=\"http://www.w3.org/2000/svg\" height=\"24px\" viewBox=\"0 -960 960 960\">\n",
              "    <path d=\"M120-120v-720h720v720H120Zm60-500h600v-160H180v160Zm220 220h160v-160H400v160Zm0 220h160v-160H400v160ZM180-400h160v-160H180v160Zm440 0h160v-160H620v160ZM180-180h160v-160H180v160Zm440 0h160v-160H620v160Z\"/>\n",
              "  </svg>\n",
              "    </button>\n",
              "\n",
              "  <style>\n",
              "    .colab-df-container {\n",
              "      display:flex;\n",
              "      gap: 12px;\n",
              "    }\n",
              "\n",
              "    .colab-df-convert {\n",
              "      background-color: #E8F0FE;\n",
              "      border: none;\n",
              "      border-radius: 50%;\n",
              "      cursor: pointer;\n",
              "      display: none;\n",
              "      fill: #1967D2;\n",
              "      height: 32px;\n",
              "      padding: 0 0 0 0;\n",
              "      width: 32px;\n",
              "    }\n",
              "\n",
              "    .colab-df-convert:hover {\n",
              "      background-color: #E2EBFA;\n",
              "      box-shadow: 0px 1px 2px rgba(60, 64, 67, 0.3), 0px 1px 3px 1px rgba(60, 64, 67, 0.15);\n",
              "      fill: #174EA6;\n",
              "    }\n",
              "\n",
              "    .colab-df-buttons div {\n",
              "      margin-bottom: 4px;\n",
              "    }\n",
              "\n",
              "    [theme=dark] .colab-df-convert {\n",
              "      background-color: #3B4455;\n",
              "      fill: #D2E3FC;\n",
              "    }\n",
              "\n",
              "    [theme=dark] .colab-df-convert:hover {\n",
              "      background-color: #434B5C;\n",
              "      box-shadow: 0px 1px 3px 1px rgba(0, 0, 0, 0.15);\n",
              "      filter: drop-shadow(0px 1px 2px rgba(0, 0, 0, 0.3));\n",
              "      fill: #FFFFFF;\n",
              "    }\n",
              "  </style>\n",
              "\n",
              "    <script>\n",
              "      const buttonEl =\n",
              "        document.querySelector('#df-589d65be-e1f5-4647-9428-e8e80c4a4778 button.colab-df-convert');\n",
              "      buttonEl.style.display =\n",
              "        google.colab.kernel.accessAllowed ? 'block' : 'none';\n",
              "\n",
              "      async function convertToInteractive(key) {\n",
              "        const element = document.querySelector('#df-589d65be-e1f5-4647-9428-e8e80c4a4778');\n",
              "        const dataTable =\n",
              "          await google.colab.kernel.invokeFunction('convertToInteractive',\n",
              "                                                    [key], {});\n",
              "        if (!dataTable) return;\n",
              "\n",
              "        const docLinkHtml = 'Like what you see? Visit the ' +\n",
              "          '<a target=\"_blank\" href=https://colab.research.google.com/notebooks/data_table.ipynb>data table notebook</a>'\n",
              "          + ' to learn more about interactive tables.';\n",
              "        element.innerHTML = '';\n",
              "        dataTable['output_type'] = 'display_data';\n",
              "        await google.colab.output.renderOutput(dataTable, element);\n",
              "        const docLink = document.createElement('div');\n",
              "        docLink.innerHTML = docLinkHtml;\n",
              "        element.appendChild(docLink);\n",
              "      }\n",
              "    </script>\n",
              "  </div>\n",
              "\n",
              "\n",
              "<div id=\"df-b6359e67-85f0-4a48-9337-bd11b4bba488\">\n",
              "  <button class=\"colab-df-quickchart\" onclick=\"quickchart('df-b6359e67-85f0-4a48-9337-bd11b4bba488')\"\n",
              "            title=\"Suggest charts\"\n",
              "            style=\"display:none;\">\n",
              "\n",
              "<svg xmlns=\"http://www.w3.org/2000/svg\" height=\"24px\"viewBox=\"0 0 24 24\"\n",
              "     width=\"24px\">\n",
              "    <g>\n",
              "        <path d=\"M19 3H5c-1.1 0-2 .9-2 2v14c0 1.1.9 2 2 2h14c1.1 0 2-.9 2-2V5c0-1.1-.9-2-2-2zM9 17H7v-7h2v7zm4 0h-2V7h2v10zm4 0h-2v-4h2v4z\"/>\n",
              "    </g>\n",
              "</svg>\n",
              "  </button>\n",
              "\n",
              "<style>\n",
              "  .colab-df-quickchart {\n",
              "      --bg-color: #E8F0FE;\n",
              "      --fill-color: #1967D2;\n",
              "      --hover-bg-color: #E2EBFA;\n",
              "      --hover-fill-color: #174EA6;\n",
              "      --disabled-fill-color: #AAA;\n",
              "      --disabled-bg-color: #DDD;\n",
              "  }\n",
              "\n",
              "  [theme=dark] .colab-df-quickchart {\n",
              "      --bg-color: #3B4455;\n",
              "      --fill-color: #D2E3FC;\n",
              "      --hover-bg-color: #434B5C;\n",
              "      --hover-fill-color: #FFFFFF;\n",
              "      --disabled-bg-color: #3B4455;\n",
              "      --disabled-fill-color: #666;\n",
              "  }\n",
              "\n",
              "  .colab-df-quickchart {\n",
              "    background-color: var(--bg-color);\n",
              "    border: none;\n",
              "    border-radius: 50%;\n",
              "    cursor: pointer;\n",
              "    display: none;\n",
              "    fill: var(--fill-color);\n",
              "    height: 32px;\n",
              "    padding: 0;\n",
              "    width: 32px;\n",
              "  }\n",
              "\n",
              "  .colab-df-quickchart:hover {\n",
              "    background-color: var(--hover-bg-color);\n",
              "    box-shadow: 0 1px 2px rgba(60, 64, 67, 0.3), 0 1px 3px 1px rgba(60, 64, 67, 0.15);\n",
              "    fill: var(--button-hover-fill-color);\n",
              "  }\n",
              "\n",
              "  .colab-df-quickchart-complete:disabled,\n",
              "  .colab-df-quickchart-complete:disabled:hover {\n",
              "    background-color: var(--disabled-bg-color);\n",
              "    fill: var(--disabled-fill-color);\n",
              "    box-shadow: none;\n",
              "  }\n",
              "\n",
              "  .colab-df-spinner {\n",
              "    border: 2px solid var(--fill-color);\n",
              "    border-color: transparent;\n",
              "    border-bottom-color: var(--fill-color);\n",
              "    animation:\n",
              "      spin 1s steps(1) infinite;\n",
              "  }\n",
              "\n",
              "  @keyframes spin {\n",
              "    0% {\n",
              "      border-color: transparent;\n",
              "      border-bottom-color: var(--fill-color);\n",
              "      border-left-color: var(--fill-color);\n",
              "    }\n",
              "    20% {\n",
              "      border-color: transparent;\n",
              "      border-left-color: var(--fill-color);\n",
              "      border-top-color: var(--fill-color);\n",
              "    }\n",
              "    30% {\n",
              "      border-color: transparent;\n",
              "      border-left-color: var(--fill-color);\n",
              "      border-top-color: var(--fill-color);\n",
              "      border-right-color: var(--fill-color);\n",
              "    }\n",
              "    40% {\n",
              "      border-color: transparent;\n",
              "      border-right-color: var(--fill-color);\n",
              "      border-top-color: var(--fill-color);\n",
              "    }\n",
              "    60% {\n",
              "      border-color: transparent;\n",
              "      border-right-color: var(--fill-color);\n",
              "    }\n",
              "    80% {\n",
              "      border-color: transparent;\n",
              "      border-right-color: var(--fill-color);\n",
              "      border-bottom-color: var(--fill-color);\n",
              "    }\n",
              "    90% {\n",
              "      border-color: transparent;\n",
              "      border-bottom-color: var(--fill-color);\n",
              "    }\n",
              "  }\n",
              "</style>\n",
              "\n",
              "  <script>\n",
              "    async function quickchart(key) {\n",
              "      const quickchartButtonEl =\n",
              "        document.querySelector('#' + key + ' button');\n",
              "      quickchartButtonEl.disabled = true;  // To prevent multiple clicks.\n",
              "      quickchartButtonEl.classList.add('colab-df-spinner');\n",
              "      try {\n",
              "        const charts = await google.colab.kernel.invokeFunction(\n",
              "            'suggestCharts', [key], {});\n",
              "      } catch (error) {\n",
              "        console.error('Error during call to suggestCharts:', error);\n",
              "      }\n",
              "      quickchartButtonEl.classList.remove('colab-df-spinner');\n",
              "      quickchartButtonEl.classList.add('colab-df-quickchart-complete');\n",
              "    }\n",
              "    (() => {\n",
              "      let quickchartButtonEl =\n",
              "        document.querySelector('#df-b6359e67-85f0-4a48-9337-bd11b4bba488 button');\n",
              "      quickchartButtonEl.style.display =\n",
              "        google.colab.kernel.accessAllowed ? 'block' : 'none';\n",
              "    })();\n",
              "  </script>\n",
              "</div>\n",
              "\n",
              "    </div>\n",
              "  </div>\n"
            ],
            "application/vnd.google.colaboratory.intrinsic+json": {
              "type": "dataframe",
              "variable_name": "rfm_scaled",
              "summary": "{\n  \"name\": \"rfm_scaled\",\n  \"rows\": 4338,\n  \"fields\": [\n    {\n      \"column\": \"CustomerID\",\n      \"properties\": {\n        \"dtype\": \"number\",\n        \"std\": 1721.8084917653164,\n        \"min\": 12346.0,\n        \"max\": 18287.0,\n        \"num_unique_values\": 4338,\n        \"samples\": [\n          17785.0,\n          14320.0,\n          15977.0\n        ],\n        \"semantic_type\": \"\",\n        \"description\": \"\"\n      }\n    },\n    {\n      \"column\": \"Recency_scaled\",\n      \"properties\": {\n        \"dtype\": \"number\",\n        \"std\": 1.0001152804200062,\n        \"min\": -0.9153400555183724,\n        \"max\": 2.814561464289313,\n        \"num_unique_values\": 349,\n        \"samples\": [\n          0.9446108363964523,\n          0.2546290539119205,\n          -0.23535800901187737\n        ],\n        \"semantic_type\": \"\",\n        \"description\": \"\"\n      }\n    },\n    {\n      \"column\": \"Frequency_scaled\",\n      \"properties\": {\n        \"dtype\": \"number\",\n        \"std\": 1.0001152804200033,\n        \"min\": -0.4250965025587132,\n        \"max\": 26.598031202438975,\n        \"num_unique_values\": 59,\n        \"samples\": [\n          -0.4250965025587132,\n          -0.2951776193616089,\n          7.499955372464647\n        ],\n        \"semantic_type\": \"\",\n        \"description\": \"\"\n      }\n    },\n    {\n      \"column\": \"Monetary_scaled\",\n      \"properties\": {\n        \"dtype\": \"number\",\n        \"std\": 1.0001152804200033,\n        \"min\": -3.2241776466758174,\n        \"max\": 4.23132740120647,\n        \"num_unique_values\": 4318,\n        \"samples\": [\n          2.0531844892012066,\n          -0.18986091752355788,\n          2.2520717260658576\n        ],\n        \"semantic_type\": \"\",\n        \"description\": \"\"\n      }\n    }\n  ]\n}"
            }
          },
          "metadata": {},
          "execution_count": 34
        }
      ],
      "source": [
        "rfm_scaled.head()"
      ]
    },
    {
      "cell_type": "code",
      "execution_count": 35,
      "id": "fc628c56-7e62-42c8-84a5-1f049d7a9036",
      "metadata": {
        "id": "fc628c56-7e62-42c8-84a5-1f049d7a9036",
        "outputId": "99676e72-34cc-45d2-ee07-8f65d850fee8",
        "colab": {
          "base_uri": "https://localhost:8080/",
          "height": 300
        }
      },
      "outputs": [
        {
          "output_type": "execute_result",
          "data": {
            "text/plain": [
              "       Recency_scaled  Frequency_scaled  Monetary_scaled\n",
              "count        4,338.00          4,338.00         4,338.00\n",
              "mean             0.00              0.00            -0.00\n",
              "std              1.00              1.00             1.00\n",
              "min             -0.92             -0.43            -3.22\n",
              "25%             -0.75             -0.43            -0.68\n",
              "50%             -0.42             -0.30            -0.03\n",
              "75%              0.49              0.09             0.69\n",
              "max              2.81             26.60             4.23"
            ],
            "text/html": [
              "\n",
              "  <div id=\"df-8aff5656-b0b6-4afe-bf58-33cf8e8fd445\" class=\"colab-df-container\">\n",
              "    <div>\n",
              "<style scoped>\n",
              "    .dataframe tbody tr th:only-of-type {\n",
              "        vertical-align: middle;\n",
              "    }\n",
              "\n",
              "    .dataframe tbody tr th {\n",
              "        vertical-align: top;\n",
              "    }\n",
              "\n",
              "    .dataframe thead th {\n",
              "        text-align: right;\n",
              "    }\n",
              "</style>\n",
              "<table border=\"1\" class=\"dataframe\">\n",
              "  <thead>\n",
              "    <tr style=\"text-align: right;\">\n",
              "      <th></th>\n",
              "      <th>Recency_scaled</th>\n",
              "      <th>Frequency_scaled</th>\n",
              "      <th>Monetary_scaled</th>\n",
              "    </tr>\n",
              "  </thead>\n",
              "  <tbody>\n",
              "    <tr>\n",
              "      <th>count</th>\n",
              "      <td>4,338.00</td>\n",
              "      <td>4,338.00</td>\n",
              "      <td>4,338.00</td>\n",
              "    </tr>\n",
              "    <tr>\n",
              "      <th>mean</th>\n",
              "      <td>0.00</td>\n",
              "      <td>0.00</td>\n",
              "      <td>-0.00</td>\n",
              "    </tr>\n",
              "    <tr>\n",
              "      <th>std</th>\n",
              "      <td>1.00</td>\n",
              "      <td>1.00</td>\n",
              "      <td>1.00</td>\n",
              "    </tr>\n",
              "    <tr>\n",
              "      <th>min</th>\n",
              "      <td>-0.92</td>\n",
              "      <td>-0.43</td>\n",
              "      <td>-3.22</td>\n",
              "    </tr>\n",
              "    <tr>\n",
              "      <th>25%</th>\n",
              "      <td>-0.75</td>\n",
              "      <td>-0.43</td>\n",
              "      <td>-0.68</td>\n",
              "    </tr>\n",
              "    <tr>\n",
              "      <th>50%</th>\n",
              "      <td>-0.42</td>\n",
              "      <td>-0.30</td>\n",
              "      <td>-0.03</td>\n",
              "    </tr>\n",
              "    <tr>\n",
              "      <th>75%</th>\n",
              "      <td>0.49</td>\n",
              "      <td>0.09</td>\n",
              "      <td>0.69</td>\n",
              "    </tr>\n",
              "    <tr>\n",
              "      <th>max</th>\n",
              "      <td>2.81</td>\n",
              "      <td>26.60</td>\n",
              "      <td>4.23</td>\n",
              "    </tr>\n",
              "  </tbody>\n",
              "</table>\n",
              "</div>\n",
              "    <div class=\"colab-df-buttons\">\n",
              "\n",
              "  <div class=\"colab-df-container\">\n",
              "    <button class=\"colab-df-convert\" onclick=\"convertToInteractive('df-8aff5656-b0b6-4afe-bf58-33cf8e8fd445')\"\n",
              "            title=\"Convert this dataframe to an interactive table.\"\n",
              "            style=\"display:none;\">\n",
              "\n",
              "  <svg xmlns=\"http://www.w3.org/2000/svg\" height=\"24px\" viewBox=\"0 -960 960 960\">\n",
              "    <path d=\"M120-120v-720h720v720H120Zm60-500h600v-160H180v160Zm220 220h160v-160H400v160Zm0 220h160v-160H400v160ZM180-400h160v-160H180v160Zm440 0h160v-160H620v160ZM180-180h160v-160H180v160Zm440 0h160v-160H620v160Z\"/>\n",
              "  </svg>\n",
              "    </button>\n",
              "\n",
              "  <style>\n",
              "    .colab-df-container {\n",
              "      display:flex;\n",
              "      gap: 12px;\n",
              "    }\n",
              "\n",
              "    .colab-df-convert {\n",
              "      background-color: #E8F0FE;\n",
              "      border: none;\n",
              "      border-radius: 50%;\n",
              "      cursor: pointer;\n",
              "      display: none;\n",
              "      fill: #1967D2;\n",
              "      height: 32px;\n",
              "      padding: 0 0 0 0;\n",
              "      width: 32px;\n",
              "    }\n",
              "\n",
              "    .colab-df-convert:hover {\n",
              "      background-color: #E2EBFA;\n",
              "      box-shadow: 0px 1px 2px rgba(60, 64, 67, 0.3), 0px 1px 3px 1px rgba(60, 64, 67, 0.15);\n",
              "      fill: #174EA6;\n",
              "    }\n",
              "\n",
              "    .colab-df-buttons div {\n",
              "      margin-bottom: 4px;\n",
              "    }\n",
              "\n",
              "    [theme=dark] .colab-df-convert {\n",
              "      background-color: #3B4455;\n",
              "      fill: #D2E3FC;\n",
              "    }\n",
              "\n",
              "    [theme=dark] .colab-df-convert:hover {\n",
              "      background-color: #434B5C;\n",
              "      box-shadow: 0px 1px 3px 1px rgba(0, 0, 0, 0.15);\n",
              "      filter: drop-shadow(0px 1px 2px rgba(0, 0, 0, 0.3));\n",
              "      fill: #FFFFFF;\n",
              "    }\n",
              "  </style>\n",
              "\n",
              "    <script>\n",
              "      const buttonEl =\n",
              "        document.querySelector('#df-8aff5656-b0b6-4afe-bf58-33cf8e8fd445 button.colab-df-convert');\n",
              "      buttonEl.style.display =\n",
              "        google.colab.kernel.accessAllowed ? 'block' : 'none';\n",
              "\n",
              "      async function convertToInteractive(key) {\n",
              "        const element = document.querySelector('#df-8aff5656-b0b6-4afe-bf58-33cf8e8fd445');\n",
              "        const dataTable =\n",
              "          await google.colab.kernel.invokeFunction('convertToInteractive',\n",
              "                                                    [key], {});\n",
              "        if (!dataTable) return;\n",
              "\n",
              "        const docLinkHtml = 'Like what you see? Visit the ' +\n",
              "          '<a target=\"_blank\" href=https://colab.research.google.com/notebooks/data_table.ipynb>data table notebook</a>'\n",
              "          + ' to learn more about interactive tables.';\n",
              "        element.innerHTML = '';\n",
              "        dataTable['output_type'] = 'display_data';\n",
              "        await google.colab.output.renderOutput(dataTable, element);\n",
              "        const docLink = document.createElement('div');\n",
              "        docLink.innerHTML = docLinkHtml;\n",
              "        element.appendChild(docLink);\n",
              "      }\n",
              "    </script>\n",
              "  </div>\n",
              "\n",
              "\n",
              "<div id=\"df-25f5ef7e-0bea-4892-b3ef-b02ce2a3cee5\">\n",
              "  <button class=\"colab-df-quickchart\" onclick=\"quickchart('df-25f5ef7e-0bea-4892-b3ef-b02ce2a3cee5')\"\n",
              "            title=\"Suggest charts\"\n",
              "            style=\"display:none;\">\n",
              "\n",
              "<svg xmlns=\"http://www.w3.org/2000/svg\" height=\"24px\"viewBox=\"0 0 24 24\"\n",
              "     width=\"24px\">\n",
              "    <g>\n",
              "        <path d=\"M19 3H5c-1.1 0-2 .9-2 2v14c0 1.1.9 2 2 2h14c1.1 0 2-.9 2-2V5c0-1.1-.9-2-2-2zM9 17H7v-7h2v7zm4 0h-2V7h2v10zm4 0h-2v-4h2v4z\"/>\n",
              "    </g>\n",
              "</svg>\n",
              "  </button>\n",
              "\n",
              "<style>\n",
              "  .colab-df-quickchart {\n",
              "      --bg-color: #E8F0FE;\n",
              "      --fill-color: #1967D2;\n",
              "      --hover-bg-color: #E2EBFA;\n",
              "      --hover-fill-color: #174EA6;\n",
              "      --disabled-fill-color: #AAA;\n",
              "      --disabled-bg-color: #DDD;\n",
              "  }\n",
              "\n",
              "  [theme=dark] .colab-df-quickchart {\n",
              "      --bg-color: #3B4455;\n",
              "      --fill-color: #D2E3FC;\n",
              "      --hover-bg-color: #434B5C;\n",
              "      --hover-fill-color: #FFFFFF;\n",
              "      --disabled-bg-color: #3B4455;\n",
              "      --disabled-fill-color: #666;\n",
              "  }\n",
              "\n",
              "  .colab-df-quickchart {\n",
              "    background-color: var(--bg-color);\n",
              "    border: none;\n",
              "    border-radius: 50%;\n",
              "    cursor: pointer;\n",
              "    display: none;\n",
              "    fill: var(--fill-color);\n",
              "    height: 32px;\n",
              "    padding: 0;\n",
              "    width: 32px;\n",
              "  }\n",
              "\n",
              "  .colab-df-quickchart:hover {\n",
              "    background-color: var(--hover-bg-color);\n",
              "    box-shadow: 0 1px 2px rgba(60, 64, 67, 0.3), 0 1px 3px 1px rgba(60, 64, 67, 0.15);\n",
              "    fill: var(--button-hover-fill-color);\n",
              "  }\n",
              "\n",
              "  .colab-df-quickchart-complete:disabled,\n",
              "  .colab-df-quickchart-complete:disabled:hover {\n",
              "    background-color: var(--disabled-bg-color);\n",
              "    fill: var(--disabled-fill-color);\n",
              "    box-shadow: none;\n",
              "  }\n",
              "\n",
              "  .colab-df-spinner {\n",
              "    border: 2px solid var(--fill-color);\n",
              "    border-color: transparent;\n",
              "    border-bottom-color: var(--fill-color);\n",
              "    animation:\n",
              "      spin 1s steps(1) infinite;\n",
              "  }\n",
              "\n",
              "  @keyframes spin {\n",
              "    0% {\n",
              "      border-color: transparent;\n",
              "      border-bottom-color: var(--fill-color);\n",
              "      border-left-color: var(--fill-color);\n",
              "    }\n",
              "    20% {\n",
              "      border-color: transparent;\n",
              "      border-left-color: var(--fill-color);\n",
              "      border-top-color: var(--fill-color);\n",
              "    }\n",
              "    30% {\n",
              "      border-color: transparent;\n",
              "      border-left-color: var(--fill-color);\n",
              "      border-top-color: var(--fill-color);\n",
              "      border-right-color: var(--fill-color);\n",
              "    }\n",
              "    40% {\n",
              "      border-color: transparent;\n",
              "      border-right-color: var(--fill-color);\n",
              "      border-top-color: var(--fill-color);\n",
              "    }\n",
              "    60% {\n",
              "      border-color: transparent;\n",
              "      border-right-color: var(--fill-color);\n",
              "    }\n",
              "    80% {\n",
              "      border-color: transparent;\n",
              "      border-right-color: var(--fill-color);\n",
              "      border-bottom-color: var(--fill-color);\n",
              "    }\n",
              "    90% {\n",
              "      border-color: transparent;\n",
              "      border-bottom-color: var(--fill-color);\n",
              "    }\n",
              "  }\n",
              "</style>\n",
              "\n",
              "  <script>\n",
              "    async function quickchart(key) {\n",
              "      const quickchartButtonEl =\n",
              "        document.querySelector('#' + key + ' button');\n",
              "      quickchartButtonEl.disabled = true;  // To prevent multiple clicks.\n",
              "      quickchartButtonEl.classList.add('colab-df-spinner');\n",
              "      try {\n",
              "        const charts = await google.colab.kernel.invokeFunction(\n",
              "            'suggestCharts', [key], {});\n",
              "      } catch (error) {\n",
              "        console.error('Error during call to suggestCharts:', error);\n",
              "      }\n",
              "      quickchartButtonEl.classList.remove('colab-df-spinner');\n",
              "      quickchartButtonEl.classList.add('colab-df-quickchart-complete');\n",
              "    }\n",
              "    (() => {\n",
              "      let quickchartButtonEl =\n",
              "        document.querySelector('#df-25f5ef7e-0bea-4892-b3ef-b02ce2a3cee5 button');\n",
              "      quickchartButtonEl.style.display =\n",
              "        google.colab.kernel.accessAllowed ? 'block' : 'none';\n",
              "    })();\n",
              "  </script>\n",
              "</div>\n",
              "\n",
              "    </div>\n",
              "  </div>\n"
            ],
            "application/vnd.google.colaboratory.intrinsic+json": {
              "type": "dataframe",
              "summary": "{\n  \"name\": \"rfm_scaled\",\n  \"rows\": 8,\n  \"fields\": [\n    {\n      \"column\": \"Recency_scaled\",\n      \"properties\": {\n        \"dtype\": \"number\",\n        \"std\": 1533.6022783395924,\n        \"min\": -0.9153400555183724,\n        \"max\": 4338.0,\n        \"num_unique_values\": 8,\n        \"samples\": [\n          2.7026175979810173e-17,\n          -0.4153532566165378,\n          4338.0\n        ],\n        \"semantic_type\": \"\",\n        \"description\": \"\"\n      }\n    },\n    {\n      \"column\": \"Frequency_scaled\",\n      \"properties\": {\n        \"dtype\": \"number\",\n        \"std\": 1532.4021157903117,\n        \"min\": -0.4250965025587132,\n        \"max\": 4338.0,\n        \"num_unique_values\": 7,\n        \"samples\": [\n          4338.0,\n          1.8017450653206783e-17,\n          0.09457903022970385\n        ],\n        \"semantic_type\": \"\",\n        \"description\": \"\"\n      }\n    },\n    {\n      \"column\": \"Monetary_scaled\",\n      \"properties\": {\n        \"dtype\": \"number\",\n        \"std\": 1533.615509156305,\n        \"min\": -3.2241776466758174,\n        \"max\": 4338.0,\n        \"num_unique_values\": 8,\n        \"samples\": [\n          -7.5345702731592e-17,\n          -0.030222224659487866,\n          4338.0\n        ],\n        \"semantic_type\": \"\",\n        \"description\": \"\"\n      }\n    }\n  ]\n}"
            }
          },
          "metadata": {},
          "execution_count": 35
        }
      ],
      "source": [
        "rfm_scaled.describe()"
      ]
    },
    {
      "cell_type": "code",
      "execution_count": 36,
      "id": "4660e746-b7ab-423f-9a43-a279fa655a66",
      "metadata": {
        "id": "4660e746-b7ab-423f-9a43-a279fa655a66"
      },
      "outputs": [],
      "source": [
        "evaluation_df = evaluate_kmeans(rfm_scaled)"
      ]
    },
    {
      "cell_type": "code",
      "execution_count": 37,
      "id": "f0a5a2cd-f00a-4e49-9231-8527dfd1ccf3",
      "metadata": {
        "id": "f0a5a2cd-f00a-4e49-9231-8527dfd1ccf3",
        "outputId": "f0f03811-1fc0-4b8e-f5fc-d9548fe3a528",
        "colab": {
          "base_uri": "https://localhost:8080/",
          "height": 332
        }
      },
      "outputs": [
        {
          "output_type": "execute_result",
          "data": {
            "text/plain": [
              "    k  inertia  silhouette\n",
              "0   2 8,393.25        0.41\n",
              "1   3 6,006.36        0.41\n",
              "2   4 4,245.32        0.41\n",
              "3   5 3,277.99        0.40\n",
              "4   6 2,751.37        0.36\n",
              "5   7 2,370.86        0.36\n",
              "6   8 1,995.87        0.35\n",
              "7   9 1,775.34        0.35\n",
              "8  10 1,585.31        0.33"
            ],
            "text/html": [
              "\n",
              "  <div id=\"df-e3e141b2-1ae5-4cf6-8ac5-7368adb205ef\" class=\"colab-df-container\">\n",
              "    <div>\n",
              "<style scoped>\n",
              "    .dataframe tbody tr th:only-of-type {\n",
              "        vertical-align: middle;\n",
              "    }\n",
              "\n",
              "    .dataframe tbody tr th {\n",
              "        vertical-align: top;\n",
              "    }\n",
              "\n",
              "    .dataframe thead th {\n",
              "        text-align: right;\n",
              "    }\n",
              "</style>\n",
              "<table border=\"1\" class=\"dataframe\">\n",
              "  <thead>\n",
              "    <tr style=\"text-align: right;\">\n",
              "      <th></th>\n",
              "      <th>k</th>\n",
              "      <th>inertia</th>\n",
              "      <th>silhouette</th>\n",
              "    </tr>\n",
              "  </thead>\n",
              "  <tbody>\n",
              "    <tr>\n",
              "      <th>0</th>\n",
              "      <td>2</td>\n",
              "      <td>8,393.25</td>\n",
              "      <td>0.41</td>\n",
              "    </tr>\n",
              "    <tr>\n",
              "      <th>1</th>\n",
              "      <td>3</td>\n",
              "      <td>6,006.36</td>\n",
              "      <td>0.41</td>\n",
              "    </tr>\n",
              "    <tr>\n",
              "      <th>2</th>\n",
              "      <td>4</td>\n",
              "      <td>4,245.32</td>\n",
              "      <td>0.41</td>\n",
              "    </tr>\n",
              "    <tr>\n",
              "      <th>3</th>\n",
              "      <td>5</td>\n",
              "      <td>3,277.99</td>\n",
              "      <td>0.40</td>\n",
              "    </tr>\n",
              "    <tr>\n",
              "      <th>4</th>\n",
              "      <td>6</td>\n",
              "      <td>2,751.37</td>\n",
              "      <td>0.36</td>\n",
              "    </tr>\n",
              "    <tr>\n",
              "      <th>5</th>\n",
              "      <td>7</td>\n",
              "      <td>2,370.86</td>\n",
              "      <td>0.36</td>\n",
              "    </tr>\n",
              "    <tr>\n",
              "      <th>6</th>\n",
              "      <td>8</td>\n",
              "      <td>1,995.87</td>\n",
              "      <td>0.35</td>\n",
              "    </tr>\n",
              "    <tr>\n",
              "      <th>7</th>\n",
              "      <td>9</td>\n",
              "      <td>1,775.34</td>\n",
              "      <td>0.35</td>\n",
              "    </tr>\n",
              "    <tr>\n",
              "      <th>8</th>\n",
              "      <td>10</td>\n",
              "      <td>1,585.31</td>\n",
              "      <td>0.33</td>\n",
              "    </tr>\n",
              "  </tbody>\n",
              "</table>\n",
              "</div>\n",
              "    <div class=\"colab-df-buttons\">\n",
              "\n",
              "  <div class=\"colab-df-container\">\n",
              "    <button class=\"colab-df-convert\" onclick=\"convertToInteractive('df-e3e141b2-1ae5-4cf6-8ac5-7368adb205ef')\"\n",
              "            title=\"Convert this dataframe to an interactive table.\"\n",
              "            style=\"display:none;\">\n",
              "\n",
              "  <svg xmlns=\"http://www.w3.org/2000/svg\" height=\"24px\" viewBox=\"0 -960 960 960\">\n",
              "    <path d=\"M120-120v-720h720v720H120Zm60-500h600v-160H180v160Zm220 220h160v-160H400v160Zm0 220h160v-160H400v160ZM180-400h160v-160H180v160Zm440 0h160v-160H620v160ZM180-180h160v-160H180v160Zm440 0h160v-160H620v160Z\"/>\n",
              "  </svg>\n",
              "    </button>\n",
              "\n",
              "  <style>\n",
              "    .colab-df-container {\n",
              "      display:flex;\n",
              "      gap: 12px;\n",
              "    }\n",
              "\n",
              "    .colab-df-convert {\n",
              "      background-color: #E8F0FE;\n",
              "      border: none;\n",
              "      border-radius: 50%;\n",
              "      cursor: pointer;\n",
              "      display: none;\n",
              "      fill: #1967D2;\n",
              "      height: 32px;\n",
              "      padding: 0 0 0 0;\n",
              "      width: 32px;\n",
              "    }\n",
              "\n",
              "    .colab-df-convert:hover {\n",
              "      background-color: #E2EBFA;\n",
              "      box-shadow: 0px 1px 2px rgba(60, 64, 67, 0.3), 0px 1px 3px 1px rgba(60, 64, 67, 0.15);\n",
              "      fill: #174EA6;\n",
              "    }\n",
              "\n",
              "    .colab-df-buttons div {\n",
              "      margin-bottom: 4px;\n",
              "    }\n",
              "\n",
              "    [theme=dark] .colab-df-convert {\n",
              "      background-color: #3B4455;\n",
              "      fill: #D2E3FC;\n",
              "    }\n",
              "\n",
              "    [theme=dark] .colab-df-convert:hover {\n",
              "      background-color: #434B5C;\n",
              "      box-shadow: 0px 1px 3px 1px rgba(0, 0, 0, 0.15);\n",
              "      filter: drop-shadow(0px 1px 2px rgba(0, 0, 0, 0.3));\n",
              "      fill: #FFFFFF;\n",
              "    }\n",
              "  </style>\n",
              "\n",
              "    <script>\n",
              "      const buttonEl =\n",
              "        document.querySelector('#df-e3e141b2-1ae5-4cf6-8ac5-7368adb205ef button.colab-df-convert');\n",
              "      buttonEl.style.display =\n",
              "        google.colab.kernel.accessAllowed ? 'block' : 'none';\n",
              "\n",
              "      async function convertToInteractive(key) {\n",
              "        const element = document.querySelector('#df-e3e141b2-1ae5-4cf6-8ac5-7368adb205ef');\n",
              "        const dataTable =\n",
              "          await google.colab.kernel.invokeFunction('convertToInteractive',\n",
              "                                                    [key], {});\n",
              "        if (!dataTable) return;\n",
              "\n",
              "        const docLinkHtml = 'Like what you see? Visit the ' +\n",
              "          '<a target=\"_blank\" href=https://colab.research.google.com/notebooks/data_table.ipynb>data table notebook</a>'\n",
              "          + ' to learn more about interactive tables.';\n",
              "        element.innerHTML = '';\n",
              "        dataTable['output_type'] = 'display_data';\n",
              "        await google.colab.output.renderOutput(dataTable, element);\n",
              "        const docLink = document.createElement('div');\n",
              "        docLink.innerHTML = docLinkHtml;\n",
              "        element.appendChild(docLink);\n",
              "      }\n",
              "    </script>\n",
              "  </div>\n",
              "\n",
              "\n",
              "<div id=\"df-2f1bf3b5-af81-4bdb-8e9f-ef4f8921c0c0\">\n",
              "  <button class=\"colab-df-quickchart\" onclick=\"quickchart('df-2f1bf3b5-af81-4bdb-8e9f-ef4f8921c0c0')\"\n",
              "            title=\"Suggest charts\"\n",
              "            style=\"display:none;\">\n",
              "\n",
              "<svg xmlns=\"http://www.w3.org/2000/svg\" height=\"24px\"viewBox=\"0 0 24 24\"\n",
              "     width=\"24px\">\n",
              "    <g>\n",
              "        <path d=\"M19 3H5c-1.1 0-2 .9-2 2v14c0 1.1.9 2 2 2h14c1.1 0 2-.9 2-2V5c0-1.1-.9-2-2-2zM9 17H7v-7h2v7zm4 0h-2V7h2v10zm4 0h-2v-4h2v4z\"/>\n",
              "    </g>\n",
              "</svg>\n",
              "  </button>\n",
              "\n",
              "<style>\n",
              "  .colab-df-quickchart {\n",
              "      --bg-color: #E8F0FE;\n",
              "      --fill-color: #1967D2;\n",
              "      --hover-bg-color: #E2EBFA;\n",
              "      --hover-fill-color: #174EA6;\n",
              "      --disabled-fill-color: #AAA;\n",
              "      --disabled-bg-color: #DDD;\n",
              "  }\n",
              "\n",
              "  [theme=dark] .colab-df-quickchart {\n",
              "      --bg-color: #3B4455;\n",
              "      --fill-color: #D2E3FC;\n",
              "      --hover-bg-color: #434B5C;\n",
              "      --hover-fill-color: #FFFFFF;\n",
              "      --disabled-bg-color: #3B4455;\n",
              "      --disabled-fill-color: #666;\n",
              "  }\n",
              "\n",
              "  .colab-df-quickchart {\n",
              "    background-color: var(--bg-color);\n",
              "    border: none;\n",
              "    border-radius: 50%;\n",
              "    cursor: pointer;\n",
              "    display: none;\n",
              "    fill: var(--fill-color);\n",
              "    height: 32px;\n",
              "    padding: 0;\n",
              "    width: 32px;\n",
              "  }\n",
              "\n",
              "  .colab-df-quickchart:hover {\n",
              "    background-color: var(--hover-bg-color);\n",
              "    box-shadow: 0 1px 2px rgba(60, 64, 67, 0.3), 0 1px 3px 1px rgba(60, 64, 67, 0.15);\n",
              "    fill: var(--button-hover-fill-color);\n",
              "  }\n",
              "\n",
              "  .colab-df-quickchart-complete:disabled,\n",
              "  .colab-df-quickchart-complete:disabled:hover {\n",
              "    background-color: var(--disabled-bg-color);\n",
              "    fill: var(--disabled-fill-color);\n",
              "    box-shadow: none;\n",
              "  }\n",
              "\n",
              "  .colab-df-spinner {\n",
              "    border: 2px solid var(--fill-color);\n",
              "    border-color: transparent;\n",
              "    border-bottom-color: var(--fill-color);\n",
              "    animation:\n",
              "      spin 1s steps(1) infinite;\n",
              "  }\n",
              "\n",
              "  @keyframes spin {\n",
              "    0% {\n",
              "      border-color: transparent;\n",
              "      border-bottom-color: var(--fill-color);\n",
              "      border-left-color: var(--fill-color);\n",
              "    }\n",
              "    20% {\n",
              "      border-color: transparent;\n",
              "      border-left-color: var(--fill-color);\n",
              "      border-top-color: var(--fill-color);\n",
              "    }\n",
              "    30% {\n",
              "      border-color: transparent;\n",
              "      border-left-color: var(--fill-color);\n",
              "      border-top-color: var(--fill-color);\n",
              "      border-right-color: var(--fill-color);\n",
              "    }\n",
              "    40% {\n",
              "      border-color: transparent;\n",
              "      border-right-color: var(--fill-color);\n",
              "      border-top-color: var(--fill-color);\n",
              "    }\n",
              "    60% {\n",
              "      border-color: transparent;\n",
              "      border-right-color: var(--fill-color);\n",
              "    }\n",
              "    80% {\n",
              "      border-color: transparent;\n",
              "      border-right-color: var(--fill-color);\n",
              "      border-bottom-color: var(--fill-color);\n",
              "    }\n",
              "    90% {\n",
              "      border-color: transparent;\n",
              "      border-bottom-color: var(--fill-color);\n",
              "    }\n",
              "  }\n",
              "</style>\n",
              "\n",
              "  <script>\n",
              "    async function quickchart(key) {\n",
              "      const quickchartButtonEl =\n",
              "        document.querySelector('#' + key + ' button');\n",
              "      quickchartButtonEl.disabled = true;  // To prevent multiple clicks.\n",
              "      quickchartButtonEl.classList.add('colab-df-spinner');\n",
              "      try {\n",
              "        const charts = await google.colab.kernel.invokeFunction(\n",
              "            'suggestCharts', [key], {});\n",
              "      } catch (error) {\n",
              "        console.error('Error during call to suggestCharts:', error);\n",
              "      }\n",
              "      quickchartButtonEl.classList.remove('colab-df-spinner');\n",
              "      quickchartButtonEl.classList.add('colab-df-quickchart-complete');\n",
              "    }\n",
              "    (() => {\n",
              "      let quickchartButtonEl =\n",
              "        document.querySelector('#df-2f1bf3b5-af81-4bdb-8e9f-ef4f8921c0c0 button');\n",
              "      quickchartButtonEl.style.display =\n",
              "        google.colab.kernel.accessAllowed ? 'block' : 'none';\n",
              "    })();\n",
              "  </script>\n",
              "</div>\n",
              "\n",
              "  <div id=\"id_801ea26b-023a-4efe-85cb-0a280e89155a\">\n",
              "    <style>\n",
              "      .colab-df-generate {\n",
              "        background-color: #E8F0FE;\n",
              "        border: none;\n",
              "        border-radius: 50%;\n",
              "        cursor: pointer;\n",
              "        display: none;\n",
              "        fill: #1967D2;\n",
              "        height: 32px;\n",
              "        padding: 0 0 0 0;\n",
              "        width: 32px;\n",
              "      }\n",
              "\n",
              "      .colab-df-generate:hover {\n",
              "        background-color: #E2EBFA;\n",
              "        box-shadow: 0px 1px 2px rgba(60, 64, 67, 0.3), 0px 1px 3px 1px rgba(60, 64, 67, 0.15);\n",
              "        fill: #174EA6;\n",
              "      }\n",
              "\n",
              "      [theme=dark] .colab-df-generate {\n",
              "        background-color: #3B4455;\n",
              "        fill: #D2E3FC;\n",
              "      }\n",
              "\n",
              "      [theme=dark] .colab-df-generate:hover {\n",
              "        background-color: #434B5C;\n",
              "        box-shadow: 0px 1px 3px 1px rgba(0, 0, 0, 0.15);\n",
              "        filter: drop-shadow(0px 1px 2px rgba(0, 0, 0, 0.3));\n",
              "        fill: #FFFFFF;\n",
              "      }\n",
              "    </style>\n",
              "    <button class=\"colab-df-generate\" onclick=\"generateWithVariable('evaluation_df')\"\n",
              "            title=\"Generate code using this dataframe.\"\n",
              "            style=\"display:none;\">\n",
              "\n",
              "  <svg xmlns=\"http://www.w3.org/2000/svg\" height=\"24px\"viewBox=\"0 0 24 24\"\n",
              "       width=\"24px\">\n",
              "    <path d=\"M7,19H8.4L18.45,9,17,7.55,7,17.6ZM5,21V16.75L18.45,3.32a2,2,0,0,1,2.83,0l1.4,1.43a1.91,1.91,0,0,1,.58,1.4,1.91,1.91,0,0,1-.58,1.4L9.25,21ZM18.45,9,17,7.55Zm-12,3A5.31,5.31,0,0,0,4.9,8.1,5.31,5.31,0,0,0,1,6.5,5.31,5.31,0,0,0,4.9,4.9,5.31,5.31,0,0,0,6.5,1,5.31,5.31,0,0,0,8.1,4.9,5.31,5.31,0,0,0,12,6.5,5.46,5.46,0,0,0,6.5,12Z\"/>\n",
              "  </svg>\n",
              "    </button>\n",
              "    <script>\n",
              "      (() => {\n",
              "      const buttonEl =\n",
              "        document.querySelector('#id_801ea26b-023a-4efe-85cb-0a280e89155a button.colab-df-generate');\n",
              "      buttonEl.style.display =\n",
              "        google.colab.kernel.accessAllowed ? 'block' : 'none';\n",
              "\n",
              "      buttonEl.onclick = () => {\n",
              "        google.colab.notebook.generateWithVariable('evaluation_df');\n",
              "      }\n",
              "      })();\n",
              "    </script>\n",
              "  </div>\n",
              "\n",
              "    </div>\n",
              "  </div>\n"
            ],
            "application/vnd.google.colaboratory.intrinsic+json": {
              "type": "dataframe",
              "variable_name": "evaluation_df",
              "summary": "{\n  \"name\": \"evaluation_df\",\n  \"rows\": 9,\n  \"fields\": [\n    {\n      \"column\": \"k\",\n      \"properties\": {\n        \"dtype\": \"number\",\n        \"std\": 2,\n        \"min\": 2,\n        \"max\": 10,\n        \"num_unique_values\": 9,\n        \"samples\": [\n          9,\n          3,\n          7\n        ],\n        \"semantic_type\": \"\",\n        \"description\": \"\"\n      }\n    },\n    {\n      \"column\": \"inertia\",\n      \"properties\": {\n        \"dtype\": \"number\",\n        \"std\": 2277.018149020145,\n        \"min\": 1585.3128245372222,\n        \"max\": 8393.254351510119,\n        \"num_unique_values\": 9,\n        \"samples\": [\n          1775.3438538607982,\n          6006.357974413173,\n          2370.860981050949\n        ],\n        \"semantic_type\": \"\",\n        \"description\": \"\"\n      }\n    },\n    {\n      \"column\": \"silhouette\",\n      \"properties\": {\n        \"dtype\": \"number\",\n        \"std\": 0.029962283401640824,\n        \"min\": 0.33110891786433827,\n        \"max\": 0.40994650890702494,\n        \"num_unique_values\": 9,\n        \"samples\": [\n          0.35232761147692154,\n          0.40994650890702494,\n          0.3574812817652028\n        ],\n        \"semantic_type\": \"\",\n        \"description\": \"\"\n      }\n    }\n  ]\n}"
            }
          },
          "metadata": {},
          "execution_count": 37
        }
      ],
      "source": [
        "evaluation_df"
      ]
    },
    {
      "cell_type": "code",
      "execution_count": 38,
      "id": "bfb37f32-01be-4c45-98e3-cf2ffea1364d",
      "metadata": {
        "id": "bfb37f32-01be-4c45-98e3-cf2ffea1364d"
      },
      "outputs": [],
      "source": [
        "evaluation_df_chart_objs = [{\n",
        "        \"plot_function\": plot_functions[\"line\"],\n",
        "        \"title\": \"Elbow Plot for K-Means\",\n",
        "        \"xlabel\": \"Number of Clusters (k)\",\n",
        "        \"ylabel\": \"Inertia (SSE)\",\n",
        "        \"x\": evaluation_df['k'],\n",
        "        \"y\": evaluation_df['inertia'],\n",
        "        \"args\": { \"marker\":\"o\" }\n",
        "    },\n",
        "    {\n",
        "        \"plot_function\": plot_functions[\"line\"],\n",
        "        \"title\": \"Silhouette Score\",\n",
        "        \"xlabel\": \"Number of Clusters (k)\",\n",
        "        \"ylabel\": \"Silhouette Score\",\n",
        "        \"x\": evaluation_df['k'],\n",
        "        \"y\": evaluation_df['silhouette'],\n",
        "        \"args\": { \"marker\":\"o\" }\n",
        "    }]"
      ]
    },
    {
      "cell_type": "code",
      "execution_count": 39,
      "id": "e2667d35-c2c2-41a6-bfe5-bb6bbc0af3fb",
      "metadata": {
        "id": "e2667d35-c2c2-41a6-bfe5-bb6bbc0af3fb",
        "outputId": "a905b2f2-0088-44c3-dfda-8fc60405f69e",
        "colab": {
          "base_uri": "https://localhost:8080/",
          "height": 485
        }
      },
      "outputs": [
        {
          "output_type": "display_data",
          "data": {
            "text/plain": [
              "<Figure size 1086x600 with 2 Axes>"
            ],
            "image/png": "[encoded data removed]"
          },
          "metadata": {}
        }
      ],
      "source": [
        "visualize_chart(evaluation_df_chart_objs, nrows=1, ncols=2)\n",
        "plt.show()"
      ]
    },
    {
      "cell_type": "markdown",
      "id": "389b0de1-5581-4866-bd63-fe77e33b2144",
      "metadata": {
        "id": "389b0de1-5581-4866-bd63-fe77e33b2144"
      },
      "source": [
        "### Selecting the Optimal Number of Clusters"
      ]
    },
    {
      "cell_type": "markdown",
      "id": "70b473cf-85da-40d2-aae9-c76f3ee95536",
      "metadata": {
        "id": "70b473cf-85da-40d2-aae9-c76f3ee95536"
      },
      "source": [
        "\n",
        "We evaluated cluster quality over k = 2–10 using two complementary methods:\n",
        "\n",
        "- **Elbow Method (Inertia)**  \n",
        "  The inertia curve drops sharply from k=2 to k=3, then flattens out. This “elbow” at k=3 indicates diminishing gains in within‑cluster compactness beyond three clusters.\n",
        "\n",
        "- **Silhouette Score**  \n",
        "  Silhouette scores peak at k=3 (≈0.42), demonstrating the best balance of cohesion and separation.\n",
        "\n",
        "**Conclusion:** Both metrics consistently point to **3 clusters** as the optimal choice for our K‑Means segmentation.  \n"
      ]
    },
    {
      "cell_type": "code",
      "execution_count": 40,
      "id": "dc2c661c-7b17-4179-b866-cf01bc14314f",
      "metadata": {
        "id": "dc2c661c-7b17-4179-b866-cf01bc14314f"
      },
      "outputs": [],
      "source": [
        "# Choose k based on elbow + silhouette (highest silhouette at k=3)\n",
        "optimal_k = 3"
      ]
    },
    {
      "cell_type": "code",
      "execution_count": 41,
      "id": "dd1e0012-e6ba-42ff-b52a-73d86cd3dcef",
      "metadata": {
        "id": "dd1e0012-e6ba-42ff-b52a-73d86cd3dcef"
      },
      "outputs": [],
      "source": [
        "# Fit final KMeans model\n",
        "kmeans = KMeans(n_clusters=optimal_k, random_state=42, n_init=10)\n",
        "rfm_scaled['Cluster'] = kmeans.fit_predict(rfm_scaled)"
      ]
    },
    {
      "cell_type": "code",
      "execution_count": 42,
      "id": "41e51dc4-6fbd-453d-bc42-e3725ea58538",
      "metadata": {
        "id": "41e51dc4-6fbd-453d-bc42-e3725ea58538"
      },
      "outputs": [],
      "source": [
        "# Merge cluster labels back into the original RFM table\n",
        "rfm['Cluster'] = rfm_scaled['Cluster']"
      ]
    },
    {
      "cell_type": "code",
      "execution_count": 43,
      "id": "428cffb1-10e0-4858-89ea-3ac3d27b4c67",
      "metadata": {
        "id": "428cffb1-10e0-4858-89ea-3ac3d27b4c67"
      },
      "outputs": [],
      "source": [
        "\n",
        "# Summarize each cluster\n",
        "cluster_summary = rfm.groupby('Cluster').agg(\n",
        "    Recency_mean=('Recency', 'mean'),\n",
        "    Frequency_mean=('Frequency', 'mean'),\n",
        "    Monetary_mean=('Monetary', 'mean'),\n",
        "    Count=('Monetary', 'count')\n",
        ").reset_index()\n"
      ]
    },
    {
      "cell_type": "code",
      "execution_count": 44,
      "id": "ca50cb1f-7bf6-4c9d-a41c-232670cc8446",
      "metadata": {
        "id": "ca50cb1f-7bf6-4c9d-a41c-232670cc8446",
        "outputId": "ac59b36a-fd99-42fe-9d53-277f0229e400",
        "colab": {
          "base_uri": "https://localhost:8080/",
          "height": 143
        }
      },
      "outputs": [
        {
          "output_type": "execute_result",
          "data": {
            "text/plain": [
              "   Cluster  Recency_mean  Frequency_mean  Monetary_mean  Count\n",
              "0        0         52.20            2.43          82.71   2284\n",
              "1        1         25.11           11.11         521.43   1037\n",
              "2        2        251.87            1.44          45.82   1017"
            ],
            "text/html": [
              "\n",
              "  <div id=\"df-d60b4883-8bd0-45bd-94d9-cc0e861cc6dc\" class=\"colab-df-container\">\n",
              "    <div>\n",
              "<style scoped>\n",
              "    .dataframe tbody tr th:only-of-type {\n",
              "        vertical-align: middle;\n",
              "    }\n",
              "\n",
              "    .dataframe tbody tr th {\n",
              "        vertical-align: top;\n",
              "    }\n",
              "\n",
              "    .dataframe thead th {\n",
              "        text-align: right;\n",
              "    }\n",
              "</style>\n",
              "<table border=\"1\" class=\"dataframe\">\n",
              "  <thead>\n",
              "    <tr style=\"text-align: right;\">\n",
              "      <th></th>\n",
              "      <th>Cluster</th>\n",
              "      <th>Recency_mean</th>\n",
              "      <th>Frequency_mean</th>\n",
              "      <th>Monetary_mean</th>\n",
              "      <th>Count</th>\n",
              "    </tr>\n",
              "  </thead>\n",
              "  <tbody>\n",
              "    <tr>\n",
              "      <th>0</th>\n",
              "      <td>0</td>\n",
              "      <td>52.20</td>\n",
              "      <td>2.43</td>\n",
              "      <td>82.71</td>\n",
              "      <td>2284</td>\n",
              "    </tr>\n",
              "    <tr>\n",
              "      <th>1</th>\n",
              "      <td>1</td>\n",
              "      <td>25.11</td>\n",
              "      <td>11.11</td>\n",
              "      <td>521.43</td>\n",
              "      <td>1037</td>\n",
              "    </tr>\n",
              "    <tr>\n",
              "      <th>2</th>\n",
              "      <td>2</td>\n",
              "      <td>251.87</td>\n",
              "      <td>1.44</td>\n",
              "      <td>45.82</td>\n",
              "      <td>1017</td>\n",
              "    </tr>\n",
              "  </tbody>\n",
              "</table>\n",
              "</div>\n",
              "    <div class=\"colab-df-buttons\">\n",
              "\n",
              "  <div class=\"colab-df-container\">\n",
              "    <button class=\"colab-df-convert\" onclick=\"convertToInteractive('df-d60b4883-8bd0-45bd-94d9-cc0e861cc6dc')\"\n",
              "            title=\"Convert this dataframe to an interactive table.\"\n",
              "            style=\"display:none;\">\n",
              "\n",
              "  <svg xmlns=\"http://www.w3.org/2000/svg\" height=\"24px\" viewBox=\"0 -960 960 960\">\n",
              "    <path d=\"M120-120v-720h720v720H120Zm60-500h600v-160H180v160Zm220 220h160v-160H400v160Zm0 220h160v-160H400v160ZM180-400h160v-160H180v160Zm440 0h160v-160H620v160ZM180-180h160v-160H180v160Zm440 0h160v-160H620v160Z\"/>\n",
              "  </svg>\n",
              "    </button>\n",
              "\n",
              "  <style>\n",
              "    .colab-df-container {\n",
              "      display:flex;\n",
              "      gap: 12px;\n",
              "    }\n",
              "\n",
              "    .colab-df-convert {\n",
              "      background-color: #E8F0FE;\n",
              "      border: none;\n",
              "      border-radius: 50%;\n",
              "      cursor: pointer;\n",
              "      display: none;\n",
              "      fill: #1967D2;\n",
              "      height: 32px;\n",
              "      padding: 0 0 0 0;\n",
              "      width: 32px;\n",
              "    }\n",
              "\n",
              "    .colab-df-convert:hover {\n",
              "      background-color: #E2EBFA;\n",
              "      box-shadow: 0px 1px 2px rgba(60, 64, 67, 0.3), 0px 1px 3px 1px rgba(60, 64, 67, 0.15);\n",
              "      fill: #174EA6;\n",
              "    }\n",
              "\n",
              "    .colab-df-buttons div {\n",
              "      margin-bottom: 4px;\n",
              "    }\n",
              "\n",
              "    [theme=dark] .colab-df-convert {\n",
              "      background-color: #3B4455;\n",
              "      fill: #D2E3FC;\n",
              "    }\n",
              "\n",
              "    [theme=dark] .colab-df-convert:hover {\n",
              "      background-color: #434B5C;\n",
              "      box-shadow: 0px 1px 3px 1px rgba(0, 0, 0, 0.15);\n",
              "      filter: drop-shadow(0px 1px 2px rgba(0, 0, 0, 0.3));\n",
              "      fill: #FFFFFF;\n",
              "    }\n",
              "  </style>\n",
              "\n",
              "    <script>\n",
              "      const buttonEl =\n",
              "        document.querySelector('#df-d60b4883-8bd0-45bd-94d9-cc0e861cc6dc button.colab-df-convert');\n",
              "      buttonEl.style.display =\n",
              "        google.colab.kernel.accessAllowed ? 'block' : 'none';\n",
              "\n",
              "      async function convertToInteractive(key) {\n",
              "        const element = document.querySelector('#df-d60b4883-8bd0-45bd-94d9-cc0e861cc6dc');\n",
              "        const dataTable =\n",
              "          await google.colab.kernel.invokeFunction('convertToInteractive',\n",
              "                                                    [key], {});\n",
              "        if (!dataTable) return;\n",
              "\n",
              "        const docLinkHtml = 'Like what you see? Visit the ' +\n",
              "          '<a target=\"_blank\" href=https://colab.research.google.com/notebooks/data_table.ipynb>data table notebook</a>'\n",
              "          + ' to learn more about interactive tables.';\n",
              "        element.innerHTML = '';\n",
              "        dataTable['output_type'] = 'display_data';\n",
              "        await google.colab.output.renderOutput(dataTable, element);\n",
              "        const docLink = document.createElement('div');\n",
              "        docLink.innerHTML = docLinkHtml;\n",
              "        element.appendChild(docLink);\n",
              "      }\n",
              "    </script>\n",
              "  </div>\n",
              "\n",
              "\n",
              "<div id=\"df-d37b680e-8c91-4a0a-a5d3-d2fbeae8df27\">\n",
              "  <button class=\"colab-df-quickchart\" onclick=\"quickchart('df-d37b680e-8c91-4a0a-a5d3-d2fbeae8df27')\"\n",
              "            title=\"Suggest charts\"\n",
              "            style=\"display:none;\">\n",
              "\n",
              "<svg xmlns=\"http://www.w3.org/2000/svg\" height=\"24px\"viewBox=\"0 0 24 24\"\n",
              "     width=\"24px\">\n",
              "    <g>\n",
              "        <path d=\"M19 3H5c-1.1 0-2 .9-2 2v14c0 1.1.9 2 2 2h14c1.1 0 2-.9 2-2V5c0-1.1-.9-2-2-2zM9 17H7v-7h2v7zm4 0h-2V7h2v10zm4 0h-2v-4h2v4z\"/>\n",
              "    </g>\n",
              "</svg>\n",
              "  </button>\n",
              "\n",
              "<style>\n",
              "  .colab-df-quickchart {\n",
              "      --bg-color: #E8F0FE;\n",
              "      --fill-color: #1967D2;\n",
              "      --hover-bg-color: #E2EBFA;\n",
              "      --hover-fill-color: #174EA6;\n",
              "      --disabled-fill-color: #AAA;\n",
              "      --disabled-bg-color: #DDD;\n",
              "  }\n",
              "\n",
              "  [theme=dark] .colab-df-quickchart {\n",
              "      --bg-color: #3B4455;\n",
              "      --fill-color: #D2E3FC;\n",
              "      --hover-bg-color: #434B5C;\n",
              "      --hover-fill-color: #FFFFFF;\n",
              "      --disabled-bg-color: #3B4455;\n",
              "      --disabled-fill-color: #666;\n",
              "  }\n",
              "\n",
              "  .colab-df-quickchart {\n",
              "    background-color: var(--bg-color);\n",
              "    border: none;\n",
              "    border-radius: 50%;\n",
              "    cursor: pointer;\n",
              "    display: none;\n",
              "    fill: var(--fill-color);\n",
              "    height: 32px;\n",
              "    padding: 0;\n",
              "    width: 32px;\n",
              "  }\n",
              "\n",
              "  .colab-df-quickchart:hover {\n",
              "    background-color: var(--hover-bg-color);\n",
              "    box-shadow: 0 1px 2px rgba(60, 64, 67, 0.3), 0 1px 3px 1px rgba(60, 64, 67, 0.15);\n",
              "    fill: var(--button-hover-fill-color);\n",
              "  }\n",
              "\n",
              "  .colab-df-quickchart-complete:disabled,\n",
              "  .colab-df-quickchart-complete:disabled:hover {\n",
              "    background-color: var(--disabled-bg-color);\n",
              "    fill: var(--disabled-fill-color);\n",
              "    box-shadow: none;\n",
              "  }\n",
              "\n",
              "  .colab-df-spinner {\n",
              "    border: 2px solid var(--fill-color);\n",
              "    border-color: transparent;\n",
              "    border-bottom-color: var(--fill-color);\n",
              "    animation:\n",
              "      spin 1s steps(1) infinite;\n",
              "  }\n",
              "\n",
              "  @keyframes spin {\n",
              "    0% {\n",
              "      border-color: transparent;\n",
              "      border-bottom-color: var(--fill-color);\n",
              "      border-left-color: var(--fill-color);\n",
              "    }\n",
              "    20% {\n",
              "      border-color: transparent;\n",
              "      border-left-color: var(--fill-color);\n",
              "      border-top-color: var(--fill-color);\n",
              "    }\n",
              "    30% {\n",
              "      border-color: transparent;\n",
              "      border-left-color: var(--fill-color);\n",
              "      border-top-color: var(--fill-color);\n",
              "      border-right-color: var(--fill-color);\n",
              "    }\n",
              "    40% {\n",
              "      border-color: transparent;\n",
              "      border-right-color: var(--fill-color);\n",
              "      border-top-color: var(--fill-color);\n",
              "    }\n",
              "    60% {\n",
              "      border-color: transparent;\n",
              "      border-right-color: var(--fill-color);\n",
              "    }\n",
              "    80% {\n",
              "      border-color: transparent;\n",
              "      border-right-color: var(--fill-color);\n",
              "      border-bottom-color: var(--fill-color);\n",
              "    }\n",
              "    90% {\n",
              "      border-color: transparent;\n",
              "      border-bottom-color: var(--fill-color);\n",
              "    }\n",
              "  }\n",
              "</style>\n",
              "\n",
              "  <script>\n",
              "    async function quickchart(key) {\n",
              "      const quickchartButtonEl =\n",
              "        document.querySelector('#' + key + ' button');\n",
              "      quickchartButtonEl.disabled = true;  // To prevent multiple clicks.\n",
              "      quickchartButtonEl.classList.add('colab-df-spinner');\n",
              "      try {\n",
              "        const charts = await google.colab.kernel.invokeFunction(\n",
              "            'suggestCharts', [key], {});\n",
              "      } catch (error) {\n",
              "        console.error('Error during call to suggestCharts:', error);\n",
              "      }\n",
              "      quickchartButtonEl.classList.remove('colab-df-spinner');\n",
              "      quickchartButtonEl.classList.add('colab-df-quickchart-complete');\n",
              "    }\n",
              "    (() => {\n",
              "      let quickchartButtonEl =\n",
              "        document.querySelector('#df-d37b680e-8c91-4a0a-a5d3-d2fbeae8df27 button');\n",
              "      quickchartButtonEl.style.display =\n",
              "        google.colab.kernel.accessAllowed ? 'block' : 'none';\n",
              "    })();\n",
              "  </script>\n",
              "</div>\n",
              "\n",
              "  <div id=\"id_83052149-68b1-4261-8d62-7e55c7e861f6\">\n",
              "    <style>\n",
              "      .colab-df-generate {\n",
              "        background-color: #E8F0FE;\n",
              "        border: none;\n",
              "        border-radius: 50%;\n",
              "        cursor: pointer;\n",
              "        display: none;\n",
              "        fill: #1967D2;\n",
              "        height: 32px;\n",
              "        padding: 0 0 0 0;\n",
              "        width: 32px;\n",
              "      }\n",
              "\n",
              "      .colab-df-generate:hover {\n",
              "        background-color: #E2EBFA;\n",
              "        box-shadow: 0px 1px 2px rgba(60, 64, 67, 0.3), 0px 1px 3px 1px rgba(60, 64, 67, 0.15);\n",
              "        fill: #174EA6;\n",
              "      }\n",
              "\n",
              "      [theme=dark] .colab-df-generate {\n",
              "        background-color: #3B4455;\n",
              "        fill: #D2E3FC;\n",
              "      }\n",
              "\n",
              "      [theme=dark] .colab-df-generate:hover {\n",
              "        background-color: #434B5C;\n",
              "        box-shadow: 0px 1px 3px 1px rgba(0, 0, 0, 0.15);\n",
              "        filter: drop-shadow(0px 1px 2px rgba(0, 0, 0, 0.3));\n",
              "        fill: #FFFFFF;\n",
              "      }\n",
              "    </style>\n",
              "    <button class=\"colab-df-generate\" onclick=\"generateWithVariable('cluster_summary')\"\n",
              "            title=\"Generate code using this dataframe.\"\n",
              "            style=\"display:none;\">\n",
              "\n",
              "  <svg xmlns=\"http://www.w3.org/2000/svg\" height=\"24px\"viewBox=\"0 0 24 24\"\n",
              "       width=\"24px\">\n",
              "    <path d=\"M7,19H8.4L18.45,9,17,7.55,7,17.6ZM5,21V16.75L18.45,3.32a2,2,0,0,1,2.83,0l1.4,1.43a1.91,1.91,0,0,1,.58,1.4,1.91,1.91,0,0,1-.58,1.4L9.25,21ZM18.45,9,17,7.55Zm-12,3A5.31,5.31,0,0,0,4.9,8.1,5.31,5.31,0,0,0,1,6.5,5.31,5.31,0,0,0,4.9,4.9,5.31,5.31,0,0,0,6.5,1,5.31,5.31,0,0,0,8.1,4.9,5.31,5.31,0,0,0,12,6.5,5.46,5.46,0,0,0,6.5,12Z\"/>\n",
              "  </svg>\n",
              "    </button>\n",
              "    <script>\n",
              "      (() => {\n",
              "      const buttonEl =\n",
              "        document.querySelector('#id_83052149-68b1-4261-8d62-7e55c7e861f6 button.colab-df-generate');\n",
              "      buttonEl.style.display =\n",
              "        google.colab.kernel.accessAllowed ? 'block' : 'none';\n",
              "\n",
              "      buttonEl.onclick = () => {\n",
              "        google.colab.notebook.generateWithVariable('cluster_summary');\n",
              "      }\n",
              "      })();\n",
              "    </script>\n",
              "  </div>\n",
              "\n",
              "    </div>\n",
              "  </div>\n"
            ],
            "application/vnd.google.colaboratory.intrinsic+json": {
              "type": "dataframe",
              "variable_name": "cluster_summary",
              "summary": "{\n  \"name\": \"cluster_summary\",\n  \"rows\": 3,\n  \"fields\": [\n    {\n      \"column\": \"Cluster\",\n      \"properties\": {\n        \"dtype\": \"int32\",\n        \"num_unique_values\": 3,\n        \"samples\": [\n          0,\n          1,\n          2\n        ],\n        \"semantic_type\": \"\",\n        \"description\": \"\"\n      }\n    },\n    {\n      \"column\": \"Recency_mean\",\n      \"properties\": {\n        \"dtype\": \"number\",\n        \"std\": 123.84522113939461,\n        \"min\": 25.108003857280618,\n        \"max\": 251.87413962635202,\n        \"num_unique_values\": 3,\n        \"samples\": [\n          52.20227670753065,\n          25.108003857280618,\n          251.87413962635202\n        ],\n        \"semantic_type\": \"\",\n        \"description\": \"\"\n      }\n    },\n    {\n      \"column\": \"Frequency_mean\",\n      \"properties\": {\n        \"dtype\": \"number\",\n        \"std\": 5.320714195553239,\n        \"min\": 1.4395280235988202,\n        \"max\": 11.109932497589199,\n        \"num_unique_values\": 3,\n        \"samples\": [\n          2.428633975481611,\n          11.109932497589199,\n          1.4395280235988202\n        ],\n        \"semantic_type\": \"\",\n        \"description\": \"\"\n      }\n    },\n    {\n      \"column\": \"Monetary_mean\",\n      \"properties\": {\n        \"dtype\": \"number\",\n        \"std\": 264.586433453531,\n        \"min\": 45.8236517533555,\n        \"max\": 521.4301191092289,\n        \"num_unique_values\": 3,\n        \"samples\": [\n          82.71195701647976,\n          521.4301191092289,\n          45.8236517533555\n        ],\n        \"semantic_type\": \"\",\n        \"description\": \"\"\n      }\n    },\n    {\n      \"column\": \"Count\",\n      \"properties\": {\n        \"dtype\": \"number\",\n        \"std\": 725,\n        \"min\": 1017,\n        \"max\": 2284,\n        \"num_unique_values\": 3,\n        \"samples\": [\n          2284,\n          1037,\n          1017\n        ],\n        \"semantic_type\": \"\",\n        \"description\": \"\"\n      }\n    }\n  ]\n}"
            }
          },
          "metadata": {},
          "execution_count": 44
        }
      ],
      "source": [
        "cluster_summary"
      ]
    },
    {
      "cell_type": "markdown",
      "id": "b2c25b7f-b3e7-44ff-b6dd-cda72888bc84",
      "metadata": {
        "id": "b2c25b7f-b3e7-44ff-b6dd-cda72888bc84"
      },
      "source": [
        "### Segment Interpretation\n",
        "\n",
        "- **Cluster 1 (High‑Value Loyal Customers):**  \n",
        "  Most recent purchasers with the highest frequency and spending — ideal for retention, upselling, and VIP loyalty programs.\n",
        "\n",
        "- **Cluster 0 (Moderate Customers):**  \n",
        "  Moderately recent and moderately engaged; represent an opportunity for targeted promotions to boost repeat purchases.\n",
        "\n",
        "- **Cluster 2 (At‑Risk/Lapsed Customers):**  \n",
        "  Longest time since last purchase combined with low purchase frequency and spend — prime candidates for reactivation campaigns.\n"
      ]
    },
    {
      "cell_type": "markdown",
      "id": "434e19a3-f59b-4a63-9bfa-ac2e5de4cf06",
      "metadata": {
        "id": "434e19a3-f59b-4a63-9bfa-ac2e5de4cf06"
      },
      "source": [
        "### Visualizing Customer Segments in 2D PCA Space"
      ]
    },
    {
      "cell_type": "code",
      "execution_count": 45,
      "id": "c9001463-3a2b-4014-b99f-0039762228e5",
      "metadata": {
        "id": "c9001463-3a2b-4014-b99f-0039762228e5"
      },
      "outputs": [],
      "source": [
        "pca = PCA(n_components=2, random_state=42)"
      ]
    },
    {
      "cell_type": "code",
      "execution_count": 46,
      "id": "6cfda650-cc8b-42b6-862d-6a471628812f",
      "metadata": {
        "id": "6cfda650-cc8b-42b6-862d-6a471628812f"
      },
      "outputs": [],
      "source": [
        "components = pca.fit_transform(rfm_scaled[['Recency_scaled', 'Frequency_scaled', 'Monetary_scaled']])\n"
      ]
    },
    {
      "cell_type": "code",
      "execution_count": 47,
      "id": "c463255d-7546-4dfb-8a21-866585e9bbd0",
      "metadata": {
        "id": "c463255d-7546-4dfb-8a21-866585e9bbd0"
      },
      "outputs": [],
      "source": [
        "pca_df = pd.DataFrame(components, index=rfm_scaled.index, columns=['PC1', 'PC2'])\n",
        "pca_df['Cluster'] = rfm_scaled['Cluster']\n"
      ]
    },
    {
      "cell_type": "code",
      "execution_count": 48,
      "id": "94c1a968-9ce0-4ce9-9aff-224993f0b64d",
      "metadata": {
        "id": "94c1a968-9ce0-4ce9-9aff-224993f0b64d",
        "outputId": "193078f4-6231-4445-a170-c2622f451b3f",
        "colab": {
          "base_uri": "https://localhost:8080/",
          "height": 564
        }
      },
      "outputs": [
        {
          "output_type": "display_data",
          "data": {
            "text/plain": [
              "<Figure size 1000x600 with 1 Axes>"
            ],
            "image/png": "[encoded data removed]"
          },
          "metadata": {}
        }
      ],
      "source": [
        "plt.figure(figsize=(10, 6))\n",
        "for cluster in pca_df['Cluster'].unique():\n",
        "    subset = pca_df[pca_df['Cluster'] == cluster]\n",
        "    plt.scatter(subset['PC1'], subset['PC2'], label=f'Cluster {cluster}', alpha=0.6)\n",
        "plt.title('RFM Clusters in 2D PCA Space')\n",
        "plt.xlabel('PC1')\n",
        "plt.ylabel('PC2')\n",
        "plt.legend()\n",
        "plt.show()"
      ]
    },
    {
      "cell_type": "code",
      "execution_count": 49,
      "id": "90a09469-7ead-4ed6-870e-c3a606552df1",
      "metadata": {
        "id": "90a09469-7ead-4ed6-870e-c3a606552df1",
        "outputId": "c45bafab-a7e5-4325-a8c8-b4ed76545444",
        "colab": {
          "base_uri": "https://localhost:8080/",
          "height": 480
        }
      },
      "outputs": [
        {
          "output_type": "display_data",
          "data": {
            "text/plain": [
              "<Figure size 640x480 with 0 Axes>"
            ]
          },
          "metadata": {}
        },
        {
          "output_type": "display_data",
          "data": {
            "text/plain": [
              "<Figure size 640x480 with 1 Axes>"
            ],
            "image/png": "[encoded data removed]"
          },
          "metadata": {}
        }
      ],
      "source": [
        "plt.figure()\n",
        "rfm.boxplot(column='Recency', by='Cluster')\n",
        "plt.title('Recency by Cluster')\n",
        "plt.suptitle('')\n",
        "plt.xlabel('Cluster')\n",
        "plt.ylabel('Recency')\n",
        "plt.show()\n"
      ]
    },
    {
      "cell_type": "code",
      "execution_count": 50,
      "id": "2162bbe4-d21b-4e78-afe0-cf86a0b4e66f",
      "metadata": {
        "id": "2162bbe4-d21b-4e78-afe0-cf86a0b4e66f",
        "outputId": "5cc5ab8d-a05e-4a8b-8780-a7670aed7c67",
        "colab": {
          "base_uri": "https://localhost:8080/",
          "height": 480
        }
      },
      "outputs": [
        {
          "output_type": "display_data",
          "data": {
            "text/plain": [
              "<Figure size 640x480 with 0 Axes>"
            ]
          },
          "metadata": {}
        },
        {
          "output_type": "display_data",
          "data": {
            "text/plain": [
              "<Figure size 640x480 with 1 Axes>"
            ],
            "image/png": "[encoded data removed]"
          },
          "metadata": {}
        }
      ],
      "source": [
        "plt.figure()\n",
        "rfm.boxplot(column='Frequency', by='Cluster')\n",
        "plt.title('Frequency by Cluster')\n",
        "plt.suptitle('')\n",
        "plt.xlabel('Cluster')\n",
        "plt.ylabel('Frequency')\n",
        "plt.show()"
      ]
    },
    {
      "cell_type": "code",
      "execution_count": 51,
      "id": "1b975e67-8743-4a82-aeaf-6512b06cc366",
      "metadata": {
        "id": "1b975e67-8743-4a82-aeaf-6512b06cc366",
        "outputId": "74f45b91-66e8-4329-90b1-a84c8ddcdb11",
        "colab": {
          "base_uri": "https://localhost:8080/",
          "height": 480
        }
      },
      "outputs": [
        {
          "output_type": "display_data",
          "data": {
            "text/plain": [
              "<Figure size 640x480 with 0 Axes>"
            ]
          },
          "metadata": {}
        },
        {
          "output_type": "display_data",
          "data": {
            "text/plain": [
              "<Figure size 640x480 with 1 Axes>"
            ],
            "image/png": "[encoded data removed]"
          },
          "metadata": {}
        }
      ],
      "source": [
        "\n",
        "plt.figure()\n",
        "rfm.boxplot(column='Monetary', by='Cluster')\n",
        "plt.title('Monetary by Cluster')\n",
        "plt.suptitle('')\n",
        "plt.xlabel('Cluster')\n",
        "plt.ylabel('Monetary')\n",
        "plt.show()"
      ]
    },
    {
      "cell_type": "markdown",
      "id": "56d1a095-701a-48f3-8702-b90b59c08191",
      "metadata": {
        "id": "56d1a095-701a-48f3-8702-b90b59c08191"
      },
      "source": [
        "\n",
        "\n",
        "| Metric    | Cluster 0 (Moderate)                  | Cluster 1 (High‑Value)                     | Cluster 2 (At‑Risk)                |\n",
        "|-----------|--------------------------------------|--------------------------------------------|------------------------------------|\n",
        "| Monetary  | Low spend (median ≈₹250–300), few outliers | Very high spend (median ≈₹750–1,000) with extreme outliers up to ₹14,000+ | Low spend (median ≈₹50–100)         |\n",
        "| Frequency | Low order count (median ≈2–3)         | High order count (median ≈8–10), many outliers up to 200+ | Very low order count (median ≈1)   |\n",
        "| Recency   | Moderate recency (median ≈50 days)    | Very recent purchasers (median ≈15 days)    | Least recent (median ≈250 days)     |\n",
        "\n",
        "**Key takeaways:**  \n",
        "- **Cluster 1** are our best customers — frequent, high spenders, and recently active.  \n",
        "- **Cluster 0** are moderately engaged, mid‑value customers.  \n",
        "- **Cluster 2** appear lapsed or low‑value, with long gaps since last purchase."
      ]
    },
    {
      "cell_type": "markdown",
      "id": "33cae23e-a04a-4516-b39a-13a8ca6c45bf",
      "metadata": {
        "id": "33cae23e-a04a-4516-b39a-13a8ca6c45bf"
      },
      "source": [
        "### Cluster Enrichment: Top Products, Countries & KPIs\n"
      ]
    },
    {
      "cell_type": "code",
      "execution_count": 52,
      "id": "70fbd8fc-a147-4651-8df2-38369d6ab034",
      "metadata": {
        "id": "70fbd8fc-a147-4651-8df2-38369d6ab034"
      },
      "outputs": [],
      "source": [
        "# Merge cluster labels back into the transaction-level dataframe\n",
        "df_enriched = df1.merge(rfm[['Cluster']], left_on='CustomerID', right_index=True)"
      ]
    },
    {
      "cell_type": "code",
      "execution_count": 53,
      "id": "4c1591c4-7e85-4f49-954f-40088e33f919",
      "metadata": {
        "id": "4c1591c4-7e85-4f49-954f-40088e33f919"
      },
      "outputs": [],
      "source": [
        "\n",
        "# Top 5 products by total spend per cluster\n",
        "top_products = (\n",
        "    df_enriched\n",
        "    .groupby(['Cluster', 'StockCode'])\n",
        "    .agg(TotalSpend=('TotalPrice', 'sum'), Quantity=('Quantity', 'sum'))\n",
        "    .sort_values(['Cluster', 'TotalSpend'], ascending=[True, False])\n",
        "    .groupby('Cluster')\n",
        "    .head(5)\n",
        "    .reset_index()\n",
        ")\n",
        "\n"
      ]
    },
    {
      "cell_type": "code",
      "execution_count": 54,
      "id": "36d7a834-9562-4bc8-b5a9-fe658d941fc4",
      "metadata": {
        "id": "36d7a834-9562-4bc8-b5a9-fe658d941fc4",
        "outputId": "cc6575dd-fc22-42b3-9014-0f7aa48e7cea",
        "colab": {
          "base_uri": "https://localhost:8080/",
          "height": 210
        }
      },
      "outputs": [
        {
          "output_type": "execute_result",
          "data": {
            "text/plain": [
              "Cluster             0\n",
              "StockCode      85123A\n",
              "TotalSpend   1,395.07\n",
              "Quantity     1,028.46\n",
              "Name: 0, dtype: object"
            ],
            "text/html": [
              "<div>\n",
              "<style scoped>\n",
              "    .dataframe tbody tr th:only-of-type {\n",
              "        vertical-align: middle;\n",
              "    }\n",
              "\n",
              "    .dataframe tbody tr th {\n",
              "        vertical-align: top;\n",
              "    }\n",
              "\n",
              "    .dataframe thead th {\n",
              "        text-align: right;\n",
              "    }\n",
              "</style>\n",
              "<table border=\"1\" class=\"dataframe\">\n",
              "  <thead>\n",
              "    <tr style=\"text-align: right;\">\n",
              "      <th></th>\n",
              "      <th>0</th>\n",
              "    </tr>\n",
              "  </thead>\n",
              "  <tbody>\n",
              "    <tr>\n",
              "      <th>Cluster</th>\n",
              "      <td>0</td>\n",
              "    </tr>\n",
              "    <tr>\n",
              "      <th>StockCode</th>\n",
              "      <td>85123A</td>\n",
              "    </tr>\n",
              "    <tr>\n",
              "      <th>TotalSpend</th>\n",
              "      <td>1,395.07</td>\n",
              "    </tr>\n",
              "    <tr>\n",
              "      <th>Quantity</th>\n",
              "      <td>1,028.46</td>\n",
              "    </tr>\n",
              "  </tbody>\n",
              "</table>\n",
              "</div><br><label><b>dtype:</b> object</label>"
            ]
          },
          "metadata": {},
          "execution_count": 54
        }
      ],
      "source": [
        "top_products.iloc[0]"
      ]
    },
    {
      "cell_type": "code",
      "execution_count": 55,
      "id": "ed2e3b6d-e88d-4510-a7e7-2bd8efb14393",
      "metadata": {
        "id": "ed2e3b6d-e88d-4510-a7e7-2bd8efb14393"
      },
      "outputs": [],
      "source": [
        "# Top 5 countries by total spend per cluster\n",
        "top_countries = (\n",
        "    df_enriched\n",
        "    .groupby(['Cluster', 'Country'])\n",
        "    .agg(TotalSpend=('TotalPrice', 'sum'), Transactions=('InvoiceNo', 'nunique'))\n",
        "    .sort_values(['Cluster', 'TotalSpend'], ascending=[True, False])\n",
        "    .groupby('Cluster')\n",
        "    .head(5)\n",
        "    .reset_index()\n",
        ")"
      ]
    },
    {
      "cell_type": "code",
      "execution_count": 56,
      "id": "1c7fec6d-03e0-4175-aa85-776b25902755",
      "metadata": {
        "id": "1c7fec6d-03e0-4175-aa85-776b25902755",
        "outputId": "19b5d452-c85d-4536-bdbf-2d8728dd6bb6",
        "colab": {
          "base_uri": "https://localhost:8080/",
          "height": 210
        }
      },
      "outputs": [
        {
          "output_type": "execute_result",
          "data": {
            "text/plain": [
              "Cluster                      0\n",
              "Country         United Kingdom\n",
              "TotalSpend          169,080.26\n",
              "Transactions              5079\n",
              "Name: 0, dtype: object"
            ],
            "text/html": [
              "<div>\n",
              "<style scoped>\n",
              "    .dataframe tbody tr th:only-of-type {\n",
              "        vertical-align: middle;\n",
              "    }\n",
              "\n",
              "    .dataframe tbody tr th {\n",
              "        vertical-align: top;\n",
              "    }\n",
              "\n",
              "    .dataframe thead th {\n",
              "        text-align: right;\n",
              "    }\n",
              "</style>\n",
              "<table border=\"1\" class=\"dataframe\">\n",
              "  <thead>\n",
              "    <tr style=\"text-align: right;\">\n",
              "      <th></th>\n",
              "      <th>0</th>\n",
              "    </tr>\n",
              "  </thead>\n",
              "  <tbody>\n",
              "    <tr>\n",
              "      <th>Cluster</th>\n",
              "      <td>0</td>\n",
              "    </tr>\n",
              "    <tr>\n",
              "      <th>Country</th>\n",
              "      <td>United Kingdom</td>\n",
              "    </tr>\n",
              "    <tr>\n",
              "      <th>TotalSpend</th>\n",
              "      <td>169,080.26</td>\n",
              "    </tr>\n",
              "    <tr>\n",
              "      <th>Transactions</th>\n",
              "      <td>5079</td>\n",
              "    </tr>\n",
              "  </tbody>\n",
              "</table>\n",
              "</div><br><label><b>dtype:</b> object</label>"
            ]
          },
          "metadata": {},
          "execution_count": 56
        }
      ],
      "source": [
        "top_countries.iloc[0]"
      ]
    },
    {
      "cell_type": "code",
      "execution_count": 57,
      "id": "7d56b3ac-1a85-4ac7-8a5f-d22d63554cce",
      "metadata": {
        "id": "7d56b3ac-1a85-4ac7-8a5f-d22d63554cce"
      },
      "outputs": [],
      "source": [
        "\n",
        "# Additional KPIs per cluster\n",
        "cluster_kpis = (\n",
        "    df_enriched\n",
        "    .groupby('Cluster')\n",
        "    .agg(\n",
        "        AvgBasketValue=('TotalPrice', 'mean'),\n",
        "        DistinctSKUs=('StockCode', 'nunique')\n",
        "    )\n",
        "    .reset_index()\n",
        ")"
      ]
    },
    {
      "cell_type": "code",
      "execution_count": 58,
      "id": "9729ace6-aaaf-40e0-930a-cec51bad6f21",
      "metadata": {
        "id": "9729ace6-aaaf-40e0-930a-cec51bad6f21",
        "outputId": "21a99e1c-dc4f-4475-ac4a-307b199ecf84",
        "colab": {
          "base_uri": "https://localhost:8080/",
          "height": 178
        }
      },
      "outputs": [
        {
          "output_type": "execute_result",
          "data": {
            "text/plain": [
              "Cluster              0.00\n",
              "AvgBasketValue       1.87\n",
              "DistinctSKUs     3,348.00\n",
              "Name: 0, dtype: float64"
            ],
            "text/html": [
              "<div>\n",
              "<style scoped>\n",
              "    .dataframe tbody tr th:only-of-type {\n",
              "        vertical-align: middle;\n",
              "    }\n",
              "\n",
              "    .dataframe tbody tr th {\n",
              "        vertical-align: top;\n",
              "    }\n",
              "\n",
              "    .dataframe thead th {\n",
              "        text-align: right;\n",
              "    }\n",
              "</style>\n",
              "<table border=\"1\" class=\"dataframe\">\n",
              "  <thead>\n",
              "    <tr style=\"text-align: right;\">\n",
              "      <th></th>\n",
              "      <th>0</th>\n",
              "    </tr>\n",
              "  </thead>\n",
              "  <tbody>\n",
              "    <tr>\n",
              "      <th>Cluster</th>\n",
              "      <td>0.00</td>\n",
              "    </tr>\n",
              "    <tr>\n",
              "      <th>AvgBasketValue</th>\n",
              "      <td>1.87</td>\n",
              "    </tr>\n",
              "    <tr>\n",
              "      <th>DistinctSKUs</th>\n",
              "      <td>3,348.00</td>\n",
              "    </tr>\n",
              "  </tbody>\n",
              "</table>\n",
              "</div><br><label><b>dtype:</b> float64</label>"
            ]
          },
          "metadata": {},
          "execution_count": 58
        }
      ],
      "source": [
        "cluster_kpis.iloc[0]"
      ]
    },
    {
      "cell_type": "markdown",
      "id": "3e274b4f-1ce1-4e69-ae8e-4dd278a59391",
      "metadata": {
        "id": "3e274b4f-1ce1-4e69-ae8e-4dd278a59391"
      },
      "source": [
        "### Persisting Results: Exporting RFM Table & Saving Model"
      ]
    },
    {
      "cell_type": "code",
      "execution_count": 59,
      "id": "041ac11c-731b-4454-8b2d-f7ad3b30fd43",
      "metadata": {
        "id": "041ac11c-731b-4454-8b2d-f7ad3b30fd43"
      },
      "outputs": [],
      "source": [
        "# Define output file paths\n",
        "rfm_path = Path('outputs/rfm_with_clusters.csv')\n",
        "model_path = Path('outputs/kmeans_rfm_model.pkl')"
      ]
    },
    {
      "cell_type": "code",
      "source": [
        "# Ensure the parent directory exists\n",
        "rfm_path.parent.mkdir(parents=True, exist_ok=True)"
      ],
      "metadata": {
        "id": "yWaSqJKTKQhl"
      },
      "id": "yWaSqJKTKQhl",
      "execution_count": 60,
      "outputs": []
    },
    {
      "cell_type": "code",
      "execution_count": 61,
      "id": "5b2ab8a8-83a1-4d1a-b32e-a6aa0c2ed54a",
      "metadata": {
        "id": "5b2ab8a8-83a1-4d1a-b32e-a6aa0c2ed54a"
      },
      "outputs": [],
      "source": [
        "# Persist cluster assignments\n",
        "rfm.to_csv(rfm_path, index=True)"
      ]
    },
    {
      "cell_type": "code",
      "execution_count": 62,
      "id": "a5dbccdf-3d77-4135-8887-5b4b36940aff",
      "metadata": {
        "id": "a5dbccdf-3d77-4135-8887-5b4b36940aff",
        "outputId": "3f679748-caa9-4f82-eb0d-ac4cc46128f1",
        "colab": {
          "base_uri": "https://localhost:8080/"
        }
      },
      "outputs": [
        {
          "output_type": "execute_result",
          "data": {
            "text/plain": [
              "['outputs/kmeans_rfm_model.pkl']"
            ]
          },
          "metadata": {},
          "execution_count": 62
        }
      ],
      "source": [
        "joblib.dump(kmeans, model_path)"
      ]
    },
    {
      "cell_type": "markdown",
      "id": "7adfc428-81d2-456b-9662-3a95007ac1a0",
      "metadata": {
        "id": "7adfc428-81d2-456b-9662-3a95007ac1a0"
      },
      "source": [
        "# Cluster-Level Recommendations\n",
        "\n",
        "| Cluster | Segment                  | Characteristics                                    | Recommended Actions                                      |\n",
        "|---------|--------------------------|----------------------------------------------------|----------------------------------------------------------|\n",
        "| 0       | Moderate Customers       | Moderate recency, moderate frequency & spend       | Targeted promotions to boost repeat purchases            |\n",
        "| 1       | High‑Value Loyal Customers | Very recent, high frequency & spend               | Retention strategies (loyalty programs, upselling, VIP perks) |\n",
        "| 2       | At‑Risk/Lapsed Customers | Long time since last purchase, low frequency & spend | Reactivation campaigns (win‑back offers, personalized discounts) |\n"
      ]
    },
    {
      "cell_type": "markdown",
      "source": [
        "## Cluster Enrichment Insights\n",
        "\n",
        "### Cluster 0 — Moderate Customers  \n",
        "- **Top Products:** WHITE HANGING HEART T‑LIGHT HOLDER (StockCode 85123A), followed by metal lanterns and decorative items — each driving ₹1,000–1,400 in spend.  \n",
        "- **Geography:** Predominantly United Kingdom (₹169K total spend, 5,079 transactions), with smaller contributions from France, Germany, Spain, and Belgium.  \n",
        "- **Shopping Behavior:** Average basket value of ₹1.87 and 3,348 distinct SKUs purchased, indicating steady but moderate engagement.\n",
        "\n",
        "### Cluster 1 — High‑Value Loyal Customers  \n",
        "- **Top Products:** The same core giftware SKUs (22423, 85123A, 85099B, 47566) generate the highest revenue (₹2,400–4,900 per SKU).  \n",
        "- **Geography:** Heavily UK‑centric (₹455K spend, 10,226 transactions), with significant orders from EIRE, Germany, and France.  \n",
        "- **Shopping Behavior:** Highest average basket value (₹2.02) and greatest SKU diversity (3,546), confirming this group as the most valuable and engaged.\n",
        "\n",
        "### Cluster 2 — At‑Risk / Lapsed Customers  \n",
        "- **Top Products:** Similar popular SKUs appear, but with much lower spend (₹228–540).  \n",
        "- **Geography:** Still dominated by the UK (₹41K spend, 1,341 transactions), with minimal activity elsewhere.  \n",
        "- **Shopping Behavior:** Average basket value of ₹1.99 and 2,701 distinct SKUs — suggesting occasional, low‑value purchases and high churn risk.\n",
        "\n",
        "---\n",
        "\n",
        "**Key Takeaway:**  \n",
        "Across all segments, core giftware SKUs drive the majority of revenue. Cluster 1 customers not only spend the most but also purchase the widest variety of products and transact most frequently, making them ideal targets for retention and upsell strategies. Cluster 0 shows moderate engagement with opportunity for conversion into higher‑value customers through targeted offers. Cluster 2 represents lapsed or low‑value shoppers who would benefit most from win‑back campaigns and personalized reactivation incentives."
      ],
      "metadata": {
        "id": "zgXK05AHIz6h"
      },
      "id": "zgXK05AHIz6h"
    }
  ],
  "metadata": {
    "colab": {
      "provenance": [],
      "include_colab_link": true
    },
    "kernelspec": {
      "display_name": "Python(rex)",
      "language": "python",
      "name": "rex"
    },
    "language_info": {
      "codemirror_mode": {
        "name": "ipython",
        "version": 3
      },
      "file_extension": ".py",
      "mimetype": "text/x-python",
      "name": "python",
      "nbconvert_exporter": "python",
      "pygments_lexer": "ipython3",
      "version": "3.8.18"
    }
  },
  "nbformat": 4,
  "nbformat_minor": 5
}